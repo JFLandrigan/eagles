{
 "cells": [
  {
   "cell_type": "code",
   "execution_count": 1,
   "id": "9d7e33fd",
   "metadata": {},
   "outputs": [],
   "source": [
    "from eagles.Supervised.tuner import SupervisedTuner\n",
    "import pandas as pd"
   ]
  },
  {
   "cell_type": "code",
   "execution_count": 2,
   "id": "f2746f60",
   "metadata": {},
   "outputs": [
    {
     "data": {
      "text/plain": [
       "(150, 5)"
      ]
     },
     "execution_count": 2,
     "metadata": {},
     "output_type": "execute_result"
    }
   ],
   "source": [
    "from eagles.data_sets import data_loader as dl\n",
    "\n",
    "iris = dl.load_iris()\n",
    "iris.shape"
   ]
  },
  {
   "cell_type": "code",
   "execution_count": 3,
   "id": "8dc3454e",
   "metadata": {},
   "outputs": [],
   "source": [
    "species = pd.get_dummies(iris['species'])\n",
    "iris = pd.concat([iris, species], axis=1)\n",
    "iris.drop(['species'], axis=1, inplace=True)\n",
    "\n",
    "fts = ['sepal_width', 'petal_length', 'petal_width', 'setosa', 'versicolor', 'virginica']"
   ]
  },
  {
   "cell_type": "code",
   "execution_count": 4,
   "id": "c93319fa",
   "metadata": {},
   "outputs": [
    {
     "name": "stdout",
     "output_type": "stream",
     "text": [
      "Performing CV Runs: 5\n",
      "Finished cv run: 1 time: 0.014\n",
      "Finished cv run: 2 time: 0.0095\n",
      "Finished cv run: 3 time: 0.0109\n",
      "Finished cv run: 4 time: 0.0112\n",
      "Finished cv run: 5 time: 0.0078\n"
     ]
    },
    {
     "data": {
      "text/html": [
       "<div>\n",
       "<style scoped>\n",
       "    .dataframe tbody tr th:only-of-type {\n",
       "        vertical-align: middle;\n",
       "    }\n",
       "\n",
       "    .dataframe tbody tr th {\n",
       "        vertical-align: top;\n",
       "    }\n",
       "\n",
       "    .dataframe thead th {\n",
       "        text-align: right;\n",
       "    }\n",
       "</style>\n",
       "<table border=\"1\" class=\"dataframe\">\n",
       "  <thead>\n",
       "    <tr style=\"text-align: right;\">\n",
       "      <th></th>\n",
       "      <th>cv run</th>\n",
       "      <th>rmse_scores</th>\n",
       "      <th>mae_scores</th>\n",
       "    </tr>\n",
       "  </thead>\n",
       "  <tbody>\n",
       "    <tr>\n",
       "      <th>0</th>\n",
       "      <td>1</td>\n",
       "      <td>0.291801</td>\n",
       "      <td>0.226453</td>\n",
       "    </tr>\n",
       "    <tr>\n",
       "      <th>1</th>\n",
       "      <td>2</td>\n",
       "      <td>0.295828</td>\n",
       "      <td>0.217582</td>\n",
       "    </tr>\n",
       "    <tr>\n",
       "      <th>2</th>\n",
       "      <td>3</td>\n",
       "      <td>0.338605</td>\n",
       "      <td>0.270146</td>\n",
       "    </tr>\n",
       "    <tr>\n",
       "      <th>3</th>\n",
       "      <td>4</td>\n",
       "      <td>0.315532</td>\n",
       "      <td>0.258746</td>\n",
       "    </tr>\n",
       "    <tr>\n",
       "      <th>4</th>\n",
       "      <td>5</td>\n",
       "      <td>0.296110</td>\n",
       "      <td>0.260238</td>\n",
       "    </tr>\n",
       "    <tr>\n",
       "      <th>5</th>\n",
       "      <td>mean</td>\n",
       "      <td>0.307575</td>\n",
       "      <td>0.246633</td>\n",
       "    </tr>\n",
       "    <tr>\n",
       "      <th>6</th>\n",
       "      <td>std</td>\n",
       "      <td>0.017575</td>\n",
       "      <td>0.020668</td>\n",
       "    </tr>\n",
       "  </tbody>\n",
       "</table>\n",
       "</div>"
      ],
      "text/plain": [
       "  cv run  rmse_scores  mae_scores\n",
       "0      1     0.291801    0.226453\n",
       "1      2     0.295828    0.217582\n",
       "2      3     0.338605    0.270146\n",
       "3      4     0.315532    0.258746\n",
       "4      5     0.296110    0.260238\n",
       "5   mean     0.307575    0.246633\n",
       "6    std     0.017575    0.020668"
      ]
     },
     "metadata": {},
     "output_type": "display_data"
    },
    {
     "name": "stdout",
     "output_type": "stream",
     "text": [
      "Final cv train test split\n",
      "rmse score: 0.2961\n",
      "mae score: 0.2602\n"
     ]
    },
    {
     "data": {
      "image/png": "[encoded data removed]",
      "text/plain": [
       "<Figure size 800x800 with 1 Axes>"
      ]
     },
     "metadata": {},
     "output_type": "display_data"
    }
   ],
   "source": [
    "tuner = SupervisedTuner(\n",
    "    problem_type='regress',\n",
    "    eval_metrics=[\"rmse\", \"mae\"],\n",
    "    num_cv=5,\n",
    "    num_top_fts=None,\n",
    "    get_ft_imp=True,\n",
    "    random_seed=4,\n",
    "    disp=True,\n",
    "    log=\"log\",\n",
    "    log_name=\"model_eval_test.txt\",\n",
    "    log_path=None,\n",
    "    log_note=\"This is a test of the model eval function\",\n",
    ")\n",
    "\n",
    "res = tuner.eval(\n",
    "    X=iris[fts],\n",
    "    y=iris[\"sepal_length\"],\n",
    "    model=\"linear\",\n",
    "    params={},\n",
    "    pipe=None,\n",
    "    scale=None,\n",
    "    select_features=None,\n",
    ")"
   ]
  },
  {
   "cell_type": "code",
   "execution_count": 7,
   "id": "bf26dac3",
   "metadata": {},
   "outputs": [
    {
     "name": "stdout",
     "output_type": "stream",
     "text": [
      "Performing CV Runs: 5\n",
      "Finished cv run: 1 time: 0.0258\n",
      "Finished cv run: 2 time: 0.0214\n",
      "Finished cv run: 3 time: 0.0129\n",
      "Finished cv run: 4 time: 0.0139\n",
      "Finished cv run: 5 time: 0.0142\n"
     ]
    },
    {
     "data": {
      "text/html": [
       "<div>\n",
       "<style scoped>\n",
       "    .dataframe tbody tr th:only-of-type {\n",
       "        vertical-align: middle;\n",
       "    }\n",
       "\n",
       "    .dataframe tbody tr th {\n",
       "        vertical-align: top;\n",
       "    }\n",
       "\n",
       "    .dataframe thead th {\n",
       "        text-align: right;\n",
       "    }\n",
       "</style>\n",
       "<table border=\"1\" class=\"dataframe\">\n",
       "  <thead>\n",
       "    <tr style=\"text-align: right;\">\n",
       "      <th></th>\n",
       "      <th>cv run</th>\n",
       "      <th>rmse_scores</th>\n",
       "      <th>mae_scores</th>\n",
       "    </tr>\n",
       "  </thead>\n",
       "  <tbody>\n",
       "    <tr>\n",
       "      <th>0</th>\n",
       "      <td>1</td>\n",
       "      <td>0.291801</td>\n",
       "      <td>0.226453</td>\n",
       "    </tr>\n",
       "    <tr>\n",
       "      <th>1</th>\n",
       "      <td>2</td>\n",
       "      <td>0.295828</td>\n",
       "      <td>0.217582</td>\n",
       "    </tr>\n",
       "    <tr>\n",
       "      <th>2</th>\n",
       "      <td>3</td>\n",
       "      <td>0.338605</td>\n",
       "      <td>0.270146</td>\n",
       "    </tr>\n",
       "    <tr>\n",
       "      <th>3</th>\n",
       "      <td>4</td>\n",
       "      <td>0.315532</td>\n",
       "      <td>0.258746</td>\n",
       "    </tr>\n",
       "    <tr>\n",
       "      <th>4</th>\n",
       "      <td>5</td>\n",
       "      <td>0.296110</td>\n",
       "      <td>0.260238</td>\n",
       "    </tr>\n",
       "    <tr>\n",
       "      <th>5</th>\n",
       "      <td>mean</td>\n",
       "      <td>0.307575</td>\n",
       "      <td>0.246633</td>\n",
       "    </tr>\n",
       "    <tr>\n",
       "      <th>6</th>\n",
       "      <td>std</td>\n",
       "      <td>0.017575</td>\n",
       "      <td>0.020668</td>\n",
       "    </tr>\n",
       "  </tbody>\n",
       "</table>\n",
       "</div>"
      ],
      "text/plain": [
       "  cv run  rmse_scores  mae_scores\n",
       "0      1     0.291801    0.226453\n",
       "1      2     0.295828    0.217582\n",
       "2      3     0.338605    0.270146\n",
       "3      4     0.315532    0.258746\n",
       "4      5     0.296110    0.260238\n",
       "5   mean     0.307575    0.246633\n",
       "6    std     0.017575    0.020668"
      ]
     },
     "metadata": {},
     "output_type": "display_data"
    },
    {
     "name": "stdout",
     "output_type": "stream",
     "text": [
      "Final cv train test split\n",
      "rmse score: 0.2961\n",
      "mae score: 0.2602\n"
     ]
    },
    {
     "data": {
      "image/png": "[encoded data removed]",
      "text/plain": [
       "<Figure size 800x800 with 1 Axes>"
      ]
     },
     "metadata": {},
     "output_type": "display_data"
    }
   ],
   "source": [
    "tuner = SupervisedTuner(\n",
    "    problem_type='regress',\n",
    "    eval_metrics=[\"rmse\", \"mae\"],\n",
    "    num_cv=5,\n",
    "    num_top_fts=None,\n",
    "    get_ft_imp=True,\n",
    "    random_seed=4,\n",
    "    disp=True,\n",
    "    log=\"log\",\n",
    "    log_name=\"model_eval_test.txt\",\n",
    "    log_path=None,\n",
    "    log_note=\"This is a test of the model eval function\",\n",
    ")\n",
    "\n",
    "res = tuner.eval(\n",
    "    X=iris[fts],\n",
    "    y=iris[\"sepal_length\"],\n",
    "    model=\"linear\",\n",
    "    params={},\n",
    "    pipe=None,\n",
    "    scale=\"standard\",\n",
    "    select_features=None,\n",
    ")"
   ]
  },
  {
   "cell_type": "code",
   "execution_count": 10,
   "id": "9399728b",
   "metadata": {},
   "outputs": [],
   "source": [
    "r = {'k':[1,2,3]}"
   ]
  },
  {
   "cell_type": "code",
   "execution_count": 11,
   "id": "f036e114",
   "metadata": {},
   "outputs": [
    {
     "data": {
      "text/plain": [
       "1"
      ]
     },
     "execution_count": 11,
     "metadata": {},
     "output_type": "execute_result"
    }
   ],
   "source": [
    "len(r)"
   ]
  },
  {
   "cell_type": "code",
   "execution_count": null,
   "id": "8602f523",
   "metadata": {},
   "outputs": [],
   "source": []
  }
 ],
 "metadata": {
  "kernelspec": {
   "display_name": "Python 3",
   "language": "python",
   "name": "python3"
  },
  "language_info": {
   "codemirror_mode": {
    "name": "ipython",
    "version": 3
   },
   "file_extension": ".py",
   "mimetype": "text/x-python",
   "name": "python",
   "nbconvert_exporter": "python",
   "pygments_lexer": "ipython3",
   "version": "3.6.8"
  }
 },
 "nbformat": 4,
 "nbformat_minor": 5
}
