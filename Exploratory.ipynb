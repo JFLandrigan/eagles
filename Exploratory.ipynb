{
 "cells": [
  {
   "cell_type": "markdown",
   "metadata": {},
   "source": [
    "# Using the Exploratory Functions\n",
    "\n",
    "This notebook contains examples of how to use the Exploratory module to do exploratory data analysis on your data."
   ]
  },
  {
   "cell_type": "code",
   "execution_count": 1,
   "metadata": {},
   "outputs": [],
   "source": [
    "from eagles.data_sets import data_loader as dl\n",
    "from eagles.Exploratory import missing\n",
    "\n",
    "import numpy as np"
   ]
  },
  {
   "cell_type": "code",
   "execution_count": 2,
   "metadata": {},
   "outputs": [
    {
     "name": "stdout",
     "output_type": "stream",
     "text": [
      "(178, 14)\n"
     ]
    }
   ],
   "source": [
    "wines = dl.load_wines()\n",
    "print(wines.shape)"
   ]
  },
  {
   "cell_type": "markdown",
   "metadata": {},
   "source": [
    "To make the data a little more realistic I'll add in some missing data."
   ]
  },
  {
   "cell_type": "code",
   "execution_count": 3,
   "metadata": {},
   "outputs": [],
   "source": [
    "wines = wines.mask(np.random.random(wines.shape) < .1)"
   ]
  },
  {
   "cell_type": "markdown",
   "metadata": {},
   "source": [
    "## Missing Data"
   ]
  },
  {
   "cell_type": "code",
   "execution_count": 4,
   "metadata": {},
   "outputs": [
    {
     "name": "stdout",
     "output_type": "stream",
     "text": [
      "                                               column_name  percent_missing\n",
      "hue                                                    hue        12.921348\n",
      "class                                                class        12.359551\n",
      "nonflavanoid_phenols                  nonflavanoid_phenols        12.359551\n",
      "alcalinity_of_ash                        alcalinity_of_ash        11.797753\n",
      "proline                                            proline        11.797753\n",
      "malic_acid                                      malic_acid        10.674157\n",
      "magnesium                                        magnesium        10.112360\n",
      "ash                                                    ash         9.550562\n",
      "OD280_OD315_of_diluted_wines  OD280_OD315_of_diluted_wines         9.550562\n",
      "proanthocyanins                            proanthocyanins         8.988764\n",
      "total_phenols                                total_phenols         7.865169\n",
      "alcohol                                            alcohol         7.303371\n",
      "color_intensity                            color_intensity         7.303371\n",
      "flavanoids                                      flavanoids         6.179775\n"
     ]
    }
   ],
   "source": [
    "missing.get_proportion_missing(df=wines, cols=[])"
   ]
  },
  {
   "cell_type": "markdown",
   "metadata": {},
   "source": [
    "If you would like a plot as well to see if there are any trends in the missing data you can simply set plot=True"
   ]
  },
  {
   "cell_type": "code",
   "execution_count": 5,
   "metadata": {},
   "outputs": [
    {
     "name": "stdout",
     "output_type": "stream",
     "text": [
      "                                               column_name  percent_missing\n",
      "hue                                                    hue        12.921348\n",
      "class                                                class        12.359551\n",
      "nonflavanoid_phenols                  nonflavanoid_phenols        12.359551\n",
      "alcalinity_of_ash                        alcalinity_of_ash        11.797753\n",
      "proline                                            proline        11.797753\n",
      "malic_acid                                      malic_acid        10.674157\n",
      "magnesium                                        magnesium        10.112360\n",
      "ash                                                    ash         9.550562\n",
      "OD280_OD315_of_diluted_wines  OD280_OD315_of_diluted_wines         9.550562\n",
      "proanthocyanins                            proanthocyanins         8.988764\n",
      "total_phenols                                total_phenols         7.865169\n",
      "alcohol                                            alcohol         7.303371\n",
      "color_intensity                            color_intensity         7.303371\n",
      "flavanoids                                      flavanoids         6.179775\n"
     ]
    },
    {
     "data": {
      "image/png": "[encoded data removed]",
      "text/plain": [
       "<Figure size 576x576 with 1 Axes>"
      ]
     },
     "metadata": {
      "needs_background": "light"
     },
     "output_type": "display_data"
    }
   ],
   "source": [
    "missing.get_proportion_missing(df=wines, cols=[], plot=True)"
   ]
  },
  {
   "cell_type": "code",
   "execution_count": null,
   "metadata": {},
   "outputs": [],
   "source": []
  }
 ],
 "metadata": {
  "kernelspec": {
   "display_name": "Python 3",
   "language": "python",
   "name": "python3"
  },
  "language_info": {
   "codemirror_mode": {
    "name": "ipython",
    "version": 3
   },
   "file_extension": ".py",
   "mimetype": "text/x-python",
   "name": "python",
   "nbconvert_exporter": "python",
   "pygments_lexer": "ipython3",
   "version": "3.6.6"
  }
 },
 "nbformat": 4,
 "nbformat_minor": 2
}
