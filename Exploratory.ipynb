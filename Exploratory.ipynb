{
 "cells": [
  {
   "cell_type": "markdown",
   "metadata": {},
   "source": [
    "# Using the Exploratory Functions\n",
    "\n",
    "This notebook contains examples of how to use the Exploratory module to do exploratory data analysis on your data.The data used in the examples is the wines dataset provied within eagle datasets. Examples include missing data analyses, getting descriptive stats of continous and categorical features, running batteries of tests and outcome analyses."
   ]
  },
  {
   "cell_type": "code",
   "execution_count": 1,
   "metadata": {},
   "outputs": [],
   "source": [
    "from eagles.data_sets import data_loader as dl\n",
    "from eagles.Exploratory import explore, missing, distributions, categories ,outcomes\n",
    "from eagles.Exploratory.utils import plot_utils as pu\n",
    "\n",
    "import pandas as pd\n",
    "import numpy as np"
   ]
  },
  {
   "cell_type": "code",
   "execution_count": 2,
   "metadata": {},
   "outputs": [
    {
     "name": "stdout",
     "output_type": "stream",
     "text": [
      "(178, 14)\n"
     ]
    }
   ],
   "source": [
    "wines = dl.load_wines()\n",
    "print(wines.shape)"
   ]
  },
  {
   "cell_type": "markdown",
   "metadata": {},
   "source": [
    "To make the data a little more realistic I'll add in some missing data and also convert the \"class\" column to str type as they are read in as ints even though they are labels. Finally I'll add in an extra categorical feature to show more examples of analyzing categorical features using the explore package."
   ]
  },
  {
   "cell_type": "code",
   "execution_count": 3,
   "metadata": {},
   "outputs": [],
   "source": [
    "wines['class'] = wines['class'].astype(str)\n",
    "wines = wines.mask(np.random.random(wines.shape) < .1)\n",
    "wines['alcohol_bins'] = list(map(lambda x: np.nan if pd.isnull(x) else\n",
    "                                 'below_12' if x < 12 else \n",
    "                                 'between_12_14' if x >= 12 and x <= 14 else \n",
    "                                 'greater_14' \n",
    "                                 , wines['alcohol']))\n"
   ]
  },
  {
   "cell_type": "markdown",
   "metadata": {},
   "source": [
    "## Missing Data"
   ]
  },
  {
   "cell_type": "markdown",
   "metadata": {},
   "source": [
    "If you would like a plot as well to see if there are any trends in the missing data you can simply set plot=True. When plot is false only the table is displayed and returned."
   ]
  },
  {
   "cell_type": "code",
   "execution_count": 4,
   "metadata": {},
   "outputs": [
    {
     "data": {
      "text/html": [
       "<div>\n",
       "<style scoped>\n",
       "    .dataframe tbody tr th:only-of-type {\n",
       "        vertical-align: middle;\n",
       "    }\n",
       "\n",
       "    .dataframe tbody tr th {\n",
       "        vertical-align: top;\n",
       "    }\n",
       "\n",
       "    .dataframe thead th {\n",
       "        text-align: right;\n",
       "    }\n",
       "</style>\n",
       "<table border=\"1\" class=\"dataframe\">\n",
       "  <thead>\n",
       "    <tr style=\"text-align: right;\">\n",
       "      <th></th>\n",
       "      <th>feature</th>\n",
       "      <th>percent_missing</th>\n",
       "    </tr>\n",
       "  </thead>\n",
       "  <tbody>\n",
       "    <tr>\n",
       "      <th>6</th>\n",
       "      <td>total_phenols</td>\n",
       "      <td>10.674157</td>\n",
       "    </tr>\n",
       "    <tr>\n",
       "      <th>10</th>\n",
       "      <td>color_intensity</td>\n",
       "      <td>10.674157</td>\n",
       "    </tr>\n",
       "    <tr>\n",
       "      <th>3</th>\n",
       "      <td>ash</td>\n",
       "      <td>10.112360</td>\n",
       "    </tr>\n",
       "    <tr>\n",
       "      <th>5</th>\n",
       "      <td>magnesium</td>\n",
       "      <td>9.550562</td>\n",
       "    </tr>\n",
       "    <tr>\n",
       "      <th>12</th>\n",
       "      <td>OD280_OD315_of_diluted_wines</td>\n",
       "      <td>9.550562</td>\n",
       "    </tr>\n",
       "    <tr>\n",
       "      <th>2</th>\n",
       "      <td>malic_acid</td>\n",
       "      <td>8.988764</td>\n",
       "    </tr>\n",
       "    <tr>\n",
       "      <th>8</th>\n",
       "      <td>nonflavanoid_phenols</td>\n",
       "      <td>8.988764</td>\n",
       "    </tr>\n",
       "    <tr>\n",
       "      <th>13</th>\n",
       "      <td>proline</td>\n",
       "      <td>8.988764</td>\n",
       "    </tr>\n",
       "    <tr>\n",
       "      <th>0</th>\n",
       "      <td>class</td>\n",
       "      <td>8.426966</td>\n",
       "    </tr>\n",
       "    <tr>\n",
       "      <th>4</th>\n",
       "      <td>alcalinity_of_ash</td>\n",
       "      <td>7.865169</td>\n",
       "    </tr>\n",
       "    <tr>\n",
       "      <th>1</th>\n",
       "      <td>alcohol</td>\n",
       "      <td>7.303371</td>\n",
       "    </tr>\n",
       "    <tr>\n",
       "      <th>9</th>\n",
       "      <td>proanthocyanins</td>\n",
       "      <td>7.303371</td>\n",
       "    </tr>\n",
       "    <tr>\n",
       "      <th>14</th>\n",
       "      <td>alcohol_bins</td>\n",
       "      <td>7.303371</td>\n",
       "    </tr>\n",
       "    <tr>\n",
       "      <th>7</th>\n",
       "      <td>flavanoids</td>\n",
       "      <td>6.741573</td>\n",
       "    </tr>\n",
       "    <tr>\n",
       "      <th>11</th>\n",
       "      <td>hue</td>\n",
       "      <td>6.741573</td>\n",
       "    </tr>\n",
       "  </tbody>\n",
       "</table>\n",
       "</div>"
      ],
      "text/plain": [
       "                         feature  percent_missing\n",
       "6                  total_phenols        10.674157\n",
       "10               color_intensity        10.674157\n",
       "3                            ash        10.112360\n",
       "5                      magnesium         9.550562\n",
       "12  OD280_OD315_of_diluted_wines         9.550562\n",
       "2                     malic_acid         8.988764\n",
       "8           nonflavanoid_phenols         8.988764\n",
       "13                       proline         8.988764\n",
       "0                          class         8.426966\n",
       "4              alcalinity_of_ash         7.865169\n",
       "1                        alcohol         7.303371\n",
       "9                proanthocyanins         7.303371\n",
       "14                  alcohol_bins         7.303371\n",
       "7                     flavanoids         6.741573\n",
       "11                           hue         6.741573"
      ]
     },
     "metadata": {},
     "output_type": "display_data"
    },
    {
     "data": {
      "image/png": "[encoded data removed]",
      "text/plain": [
       "<Figure size 864x864 with 1 Axes>"
      ]
     },
     "metadata": {
      "needs_background": "light"
     },
     "output_type": "display_data"
    }
   ],
   "source": [
    "msg_df = missing.get_proportion_missing(data=wines, cols=[], plot=True)"
   ]
  },
  {
   "cell_type": "markdown",
   "metadata": {},
   "source": [
    "## Get the base descriptive stats"
   ]
  },
  {
   "cell_type": "markdown",
   "metadata": {},
   "source": [
    "get_base_descriptives() returns a pandas dataframe of stats. Stat options include \"mean\", \"median\", \"std\", \"min\", \"max\", \"skew\", \"quantiles\". If stats is left as default it will return all stats including the 90th quantile value unless otherwise specified. "
   ]
  },
  {
   "cell_type": "code",
   "execution_count": 5,
   "metadata": {},
   "outputs": [
    {
     "data": {
      "text/html": [
       "<div>\n",
       "<style scoped>\n",
       "    .dataframe tbody tr th:only-of-type {\n",
       "        vertical-align: middle;\n",
       "    }\n",
       "\n",
       "    .dataframe tbody tr th {\n",
       "        vertical-align: top;\n",
       "    }\n",
       "\n",
       "    .dataframe thead th {\n",
       "        text-align: right;\n",
       "    }\n",
       "</style>\n",
       "<table border=\"1\" class=\"dataframe\">\n",
       "  <thead>\n",
       "    <tr style=\"text-align: right;\">\n",
       "      <th></th>\n",
       "      <th>feature</th>\n",
       "      <th>mean</th>\n",
       "      <th>max</th>\n",
       "      <th>std</th>\n",
       "      <th>75.0th_quantile</th>\n",
       "      <th>90.0th_quantile</th>\n",
       "    </tr>\n",
       "  </thead>\n",
       "  <tbody>\n",
       "    <tr>\n",
       "      <th>0</th>\n",
       "      <td>alcohol</td>\n",
       "      <td>13.022667</td>\n",
       "      <td>14.75</td>\n",
       "      <td>0.786902</td>\n",
       "      <td>13.6700</td>\n",
       "      <td>14.100</td>\n",
       "    </tr>\n",
       "    <tr>\n",
       "      <th>1</th>\n",
       "      <td>malic_acid</td>\n",
       "      <td>2.295864</td>\n",
       "      <td>5.80</td>\n",
       "      <td>1.091165</td>\n",
       "      <td>3.0300</td>\n",
       "      <td>3.898</td>\n",
       "    </tr>\n",
       "    <tr>\n",
       "      <th>2</th>\n",
       "      <td>ash</td>\n",
       "      <td>2.369813</td>\n",
       "      <td>3.23</td>\n",
       "      <td>0.274896</td>\n",
       "      <td>2.5525</td>\n",
       "      <td>2.700</td>\n",
       "    </tr>\n",
       "    <tr>\n",
       "      <th>3</th>\n",
       "      <td>alcalinity_of_ash</td>\n",
       "      <td>19.344512</td>\n",
       "      <td>30.00</td>\n",
       "      <td>3.265797</td>\n",
       "      <td>21.5000</td>\n",
       "      <td>23.880</td>\n",
       "    </tr>\n",
       "    <tr>\n",
       "      <th>4</th>\n",
       "      <td>magnesium</td>\n",
       "      <td>99.844720</td>\n",
       "      <td>162.00</td>\n",
       "      <td>14.418980</td>\n",
       "      <td>108.0000</td>\n",
       "      <td>118.000</td>\n",
       "    </tr>\n",
       "    <tr>\n",
       "      <th>5</th>\n",
       "      <td>total_phenols</td>\n",
       "      <td>2.299686</td>\n",
       "      <td>3.85</td>\n",
       "      <td>0.625214</td>\n",
       "      <td>2.8000</td>\n",
       "      <td>3.100</td>\n",
       "    </tr>\n",
       "    <tr>\n",
       "      <th>6</th>\n",
       "      <td>flavanoids</td>\n",
       "      <td>2.027530</td>\n",
       "      <td>5.08</td>\n",
       "      <td>1.007873</td>\n",
       "      <td>2.8750</td>\n",
       "      <td>3.235</td>\n",
       "    </tr>\n",
       "    <tr>\n",
       "      <th>7</th>\n",
       "      <td>nonflavanoid_phenols</td>\n",
       "      <td>0.360741</td>\n",
       "      <td>0.66</td>\n",
       "      <td>0.125488</td>\n",
       "      <td>0.4375</td>\n",
       "      <td>0.530</td>\n",
       "    </tr>\n",
       "    <tr>\n",
       "      <th>8</th>\n",
       "      <td>proanthocyanins</td>\n",
       "      <td>1.593576</td>\n",
       "      <td>3.58</td>\n",
       "      <td>0.571359</td>\n",
       "      <td>1.9600</td>\n",
       "      <td>2.290</td>\n",
       "    </tr>\n",
       "    <tr>\n",
       "      <th>9</th>\n",
       "      <td>color_intensity</td>\n",
       "      <td>5.018868</td>\n",
       "      <td>13.00</td>\n",
       "      <td>2.337053</td>\n",
       "      <td>6.1150</td>\n",
       "      <td>8.532</td>\n",
       "    </tr>\n",
       "    <tr>\n",
       "      <th>10</th>\n",
       "      <td>hue</td>\n",
       "      <td>0.957867</td>\n",
       "      <td>1.71</td>\n",
       "      <td>0.227553</td>\n",
       "      <td>1.1200</td>\n",
       "      <td>1.235</td>\n",
       "    </tr>\n",
       "    <tr>\n",
       "      <th>11</th>\n",
       "      <td>OD280_OD315_of_diluted_wines</td>\n",
       "      <td>2.593851</td>\n",
       "      <td>4.00</td>\n",
       "      <td>0.715823</td>\n",
       "      <td>3.1600</td>\n",
       "      <td>3.450</td>\n",
       "    </tr>\n",
       "    <tr>\n",
       "      <th>12</th>\n",
       "      <td>proline</td>\n",
       "      <td>741.641975</td>\n",
       "      <td>1680.00</td>\n",
       "      <td>316.177924</td>\n",
       "      <td>961.7500</td>\n",
       "      <td>1264.500</td>\n",
       "    </tr>\n",
       "  </tbody>\n",
       "</table>\n",
       "</div>"
      ],
      "text/plain": [
       "                         feature        mean      max         std  \\\n",
       "0                        alcohol   13.022667    14.75    0.786902   \n",
       "1                     malic_acid    2.295864     5.80    1.091165   \n",
       "2                            ash    2.369813     3.23    0.274896   \n",
       "3              alcalinity_of_ash   19.344512    30.00    3.265797   \n",
       "4                      magnesium   99.844720   162.00   14.418980   \n",
       "5                  total_phenols    2.299686     3.85    0.625214   \n",
       "6                     flavanoids    2.027530     5.08    1.007873   \n",
       "7           nonflavanoid_phenols    0.360741     0.66    0.125488   \n",
       "8                proanthocyanins    1.593576     3.58    0.571359   \n",
       "9                color_intensity    5.018868    13.00    2.337053   \n",
       "10                           hue    0.957867     1.71    0.227553   \n",
       "11  OD280_OD315_of_diluted_wines    2.593851     4.00    0.715823   \n",
       "12                       proline  741.641975  1680.00  316.177924   \n",
       "\n",
       "    75.0th_quantile  90.0th_quantile  \n",
       "0           13.6700           14.100  \n",
       "1            3.0300            3.898  \n",
       "2            2.5525            2.700  \n",
       "3           21.5000           23.880  \n",
       "4          108.0000          118.000  \n",
       "5            2.8000            3.100  \n",
       "6            2.8750            3.235  \n",
       "7            0.4375            0.530  \n",
       "8            1.9600            2.290  \n",
       "9            6.1150            8.532  \n",
       "10           1.1200            1.235  \n",
       "11           3.1600            3.450  \n",
       "12         961.7500         1264.500  "
      ]
     },
     "metadata": {},
     "output_type": "display_data"
    }
   ],
   "source": [
    "descipt_df = explore.get_base_descriptives(data=wines\n",
    "                                           , stats=[\"mean\", \"max\", \"std\", \"quantiles\"]\n",
    "                                           , quantiles=[.75,.9], disp=True)"
   ]
  },
  {
   "cell_type": "markdown",
   "metadata": {},
   "source": [
    "## Looking at Distributions and Potential Caps"
   ]
  },
  {
   "cell_type": "markdown",
   "metadata": {},
   "source": [
    "Beyond looking at basic descriptives the distributions module contains find_caps() which allows the user to find potential capping values for distributions. Options include \"sd\" and \"percentile\". Currently the direction of caps based on standard deviations are determined based on the skew direction as indicated by the skew value. If there is no determined skew direction then caps for both sides of the distribution are returned. "
   ]
  },
  {
   "cell_type": "code",
   "execution_count": 6,
   "metadata": {
    "scrolled": false
   },
   "outputs": [
    {
     "data": {
      "text/html": [
       "<div>\n",
       "<style scoped>\n",
       "    .dataframe tbody tr th:only-of-type {\n",
       "        vertical-align: middle;\n",
       "    }\n",
       "\n",
       "    .dataframe tbody tr th {\n",
       "        vertical-align: top;\n",
       "    }\n",
       "\n",
       "    .dataframe thead th {\n",
       "        text-align: right;\n",
       "    }\n",
       "</style>\n",
       "<table border=\"1\" class=\"dataframe\">\n",
       "  <thead>\n",
       "    <tr style=\"text-align: right;\">\n",
       "      <th></th>\n",
       "      <th>feature</th>\n",
       "      <th>mean</th>\n",
       "      <th>plus_2_SD</th>\n",
       "      <th>plus_3_SD</th>\n",
       "      <th>minus_2_SD</th>\n",
       "      <th>minus_3_SD</th>\n",
       "      <th>skew</th>\n",
       "    </tr>\n",
       "  </thead>\n",
       "  <tbody>\n",
       "    <tr>\n",
       "      <th>0</th>\n",
       "      <td>alcohol</td>\n",
       "      <td>13.022667</td>\n",
       "      <td>14.596471</td>\n",
       "      <td>15.383373</td>\n",
       "      <td>11.448863</td>\n",
       "      <td>10.661961</td>\n",
       "      <td>-0.107347</td>\n",
       "    </tr>\n",
       "    <tr>\n",
       "      <th>1</th>\n",
       "      <td>proline</td>\n",
       "      <td>741.641975</td>\n",
       "      <td>1373.997824</td>\n",
       "      <td>1690.175748</td>\n",
       "      <td>NaN</td>\n",
       "      <td>NaN</td>\n",
       "      <td>0.798651</td>\n",
       "    </tr>\n",
       "    <tr>\n",
       "      <th>2</th>\n",
       "      <td>flavanoids</td>\n",
       "      <td>2.027530</td>\n",
       "      <td>4.043276</td>\n",
       "      <td>5.051149</td>\n",
       "      <td>0.011784</td>\n",
       "      <td>-0.996089</td>\n",
       "      <td>0.023135</td>\n",
       "    </tr>\n",
       "  </tbody>\n",
       "</table>\n",
       "</div>"
      ],
      "text/plain": [
       "      feature        mean    plus_2_SD    plus_3_SD  minus_2_SD  minus_3_SD  \\\n",
       "0     alcohol   13.022667    14.596471    15.383373   11.448863   10.661961   \n",
       "1     proline  741.641975  1373.997824  1690.175748         NaN         NaN   \n",
       "2  flavanoids    2.027530     4.043276     5.051149    0.011784   -0.996089   \n",
       "\n",
       "       skew  \n",
       "0 -0.107347  \n",
       "1  0.798651  \n",
       "2  0.023135  "
      ]
     },
     "metadata": {},
     "output_type": "display_data"
    },
    {
     "data": {
      "image/png": "[encoded data removed]",
      "text/plain": [
       "<Figure size 432x432 with 1 Axes>"
      ]
     },
     "metadata": {
      "needs_background": "light"
     },
     "output_type": "display_data"
    },
    {
     "data": {
      "image/png": "[encoded data removed]",
      "text/plain": [
       "<Figure size 432x432 with 1 Axes>"
      ]
     },
     "metadata": {
      "needs_background": "light"
     },
     "output_type": "display_data"
    },
    {
     "data": {
      "image/png": "[encoded data removed]",
      "text/plain": [
       "<Figure size 432x432 with 1 Axes>"
      ]
     },
     "metadata": {
      "needs_background": "light"
     },
     "output_type": "display_data"
    }
   ],
   "source": [
    "caps_df = distributions.find_caps(data=wines, cols=['alcohol', 'proline', 'flavanoids'], stats=['sd'] ,plot=True)"
   ]
  },
  {
   "cell_type": "markdown",
   "metadata": {},
   "source": [
    "## Categories"
   ]
  },
  {
   "cell_type": "markdown",
   "metadata": {},
   "source": [
    "The categories get_sample_stats() allows you to get the count and porportion of samples for catgegorical variables. "
   ]
  },
  {
   "cell_type": "code",
   "execution_count": 7,
   "metadata": {},
   "outputs": [
    {
     "data": {
      "text/html": [
       "<div>\n",
       "<style scoped>\n",
       "    .dataframe tbody tr th:only-of-type {\n",
       "        vertical-align: middle;\n",
       "    }\n",
       "\n",
       "    .dataframe tbody tr th {\n",
       "        vertical-align: top;\n",
       "    }\n",
       "\n",
       "    .dataframe thead th {\n",
       "        text-align: right;\n",
       "    }\n",
       "</style>\n",
       "<table border=\"1\" class=\"dataframe\">\n",
       "  <thead>\n",
       "    <tr style=\"text-align: right;\">\n",
       "      <th></th>\n",
       "      <th>feature_by_category</th>\n",
       "      <th>count</th>\n",
       "      <th>proportion_samples</th>\n",
       "    </tr>\n",
       "  </thead>\n",
       "  <tbody>\n",
       "    <tr>\n",
       "      <th>0</th>\n",
       "      <td>class_1</td>\n",
       "      <td>54</td>\n",
       "      <td>30.34</td>\n",
       "    </tr>\n",
       "    <tr>\n",
       "      <th>1</th>\n",
       "      <td>class_2</td>\n",
       "      <td>66</td>\n",
       "      <td>37.08</td>\n",
       "    </tr>\n",
       "    <tr>\n",
       "      <th>2</th>\n",
       "      <td>class_3</td>\n",
       "      <td>43</td>\n",
       "      <td>24.16</td>\n",
       "    </tr>\n",
       "    <tr>\n",
       "      <th>0</th>\n",
       "      <td>alcohol_bins_below_12</td>\n",
       "      <td>16</td>\n",
       "      <td>8.99</td>\n",
       "    </tr>\n",
       "    <tr>\n",
       "      <th>1</th>\n",
       "      <td>alcohol_bins_between_12_14</td>\n",
       "      <td>129</td>\n",
       "      <td>72.47</td>\n",
       "    </tr>\n",
       "    <tr>\n",
       "      <th>2</th>\n",
       "      <td>alcohol_bins_greater_14</td>\n",
       "      <td>20</td>\n",
       "      <td>11.24</td>\n",
       "    </tr>\n",
       "  </tbody>\n",
       "</table>\n",
       "</div>"
      ],
      "text/plain": [
       "          feature_by_category  count  proportion_samples\n",
       "0                     class_1     54               30.34\n",
       "1                     class_2     66               37.08\n",
       "2                     class_3     43               24.16\n",
       "0       alcohol_bins_below_12     16                8.99\n",
       "1  alcohol_bins_between_12_14    129               72.47\n",
       "2     alcohol_bins_greater_14     20               11.24"
      ]
     },
     "metadata": {},
     "output_type": "display_data"
    },
    {
     "data": {
      "image/png": "[encoded data removed]",
      "text/plain": [
       "<Figure size 432x432 with 1 Axes>"
      ]
     },
     "metadata": {
      "needs_background": "light"
     },
     "output_type": "display_data"
    },
    {
     "data": {
      "image/png": "[encoded data removed]",
      "text/plain": [
       "<Figure size 432x432 with 1 Axes>"
      ]
     },
     "metadata": {
      "needs_background": "light"
     },
     "output_type": "display_data"
    }
   ],
   "source": [
    "cat_df = categories.get_sample_stats(data=wines\n",
    "                                     , cols=['class', 'alcohol_bins']\n",
    "                                     , disp=True\n",
    "                                     , plot=True)"
   ]
  },
  {
   "cell_type": "markdown",
   "metadata": {},
   "source": [
    "Using get_multi_group_stats() allows you to look at interactions between buckets."
   ]
  },
  {
   "cell_type": "code",
   "execution_count": 8,
   "metadata": {},
   "outputs": [
    {
     "data": {
      "text/html": [
       "<div>\n",
       "<style scoped>\n",
       "    .dataframe tbody tr th:only-of-type {\n",
       "        vertical-align: middle;\n",
       "    }\n",
       "\n",
       "    .dataframe tbody tr th {\n",
       "        vertical-align: top;\n",
       "    }\n",
       "\n",
       "    .dataframe thead th {\n",
       "        text-align: right;\n",
       "    }\n",
       "</style>\n",
       "<table border=\"1\" class=\"dataframe\">\n",
       "  <thead>\n",
       "    <tr style=\"text-align: right;\">\n",
       "      <th></th>\n",
       "      <th>class</th>\n",
       "      <th>alcohol_bins</th>\n",
       "      <th>count</th>\n",
       "      <th>proportion_samples</th>\n",
       "    </tr>\n",
       "  </thead>\n",
       "  <tbody>\n",
       "    <tr>\n",
       "      <th>0</th>\n",
       "      <td>1</td>\n",
       "      <td>between_12_14</td>\n",
       "      <td>36</td>\n",
       "      <td>20.22</td>\n",
       "    </tr>\n",
       "    <tr>\n",
       "      <th>1</th>\n",
       "      <td>1</td>\n",
       "      <td>greater_14</td>\n",
       "      <td>14</td>\n",
       "      <td>7.87</td>\n",
       "    </tr>\n",
       "    <tr>\n",
       "      <th>2</th>\n",
       "      <td>2</td>\n",
       "      <td>below_12</td>\n",
       "      <td>15</td>\n",
       "      <td>8.43</td>\n",
       "    </tr>\n",
       "    <tr>\n",
       "      <th>3</th>\n",
       "      <td>2</td>\n",
       "      <td>between_12_14</td>\n",
       "      <td>45</td>\n",
       "      <td>25.28</td>\n",
       "    </tr>\n",
       "    <tr>\n",
       "      <th>4</th>\n",
       "      <td>3</td>\n",
       "      <td>between_12_14</td>\n",
       "      <td>39</td>\n",
       "      <td>21.91</td>\n",
       "    </tr>\n",
       "    <tr>\n",
       "      <th>5</th>\n",
       "      <td>3</td>\n",
       "      <td>greater_14</td>\n",
       "      <td>2</td>\n",
       "      <td>1.12</td>\n",
       "    </tr>\n",
       "  </tbody>\n",
       "</table>\n",
       "</div>"
      ],
      "text/plain": [
       "  class   alcohol_bins  count  proportion_samples\n",
       "0     1  between_12_14     36               20.22\n",
       "1     1     greater_14     14                7.87\n",
       "2     2       below_12     15                8.43\n",
       "3     2  between_12_14     45               25.28\n",
       "4     3  between_12_14     39               21.91\n",
       "5     3     greater_14      2                1.12"
      ]
     },
     "metadata": {},
     "output_type": "display_data"
    }
   ],
   "source": [
    "grps = categories.get_multi_group_stats(data=wines\n",
    "                                        , group_cols=['class', 'alcohol_bins']\n",
    "                                        , disp=True)"
   ]
  },
  {
   "cell_type": "markdown",
   "metadata": {},
   "source": [
    "## Batteries\n",
    "\n",
    "The run_battery() function allows you to run multiple test by simply calling the explore.run_battery() function. When no tests are passed into the tests parameter all available tests are run. Options include \"info\", \"missing\", \"descriptive\", \"distributions\", \"correlations\", \"category_stats\". The function returns a dictionary containing the test names as keys and returned dataframes as values."
   ]
  },
  {
   "cell_type": "code",
   "execution_count": 9,
   "metadata": {
    "scrolled": false
   },
   "outputs": [
    {
     "data": {
      "text/html": [
       "<div>\n",
       "<style scoped>\n",
       "    .dataframe tbody tr th:only-of-type {\n",
       "        vertical-align: middle;\n",
       "    }\n",
       "\n",
       "    .dataframe tbody tr th {\n",
       "        vertical-align: top;\n",
       "    }\n",
       "\n",
       "    .dataframe thead th {\n",
       "        text-align: right;\n",
       "    }\n",
       "</style>\n",
       "<table border=\"1\" class=\"dataframe\">\n",
       "  <thead>\n",
       "    <tr style=\"text-align: right;\">\n",
       "      <th></th>\n",
       "      <th>stat</th>\n",
       "      <th>value</th>\n",
       "    </tr>\n",
       "  </thead>\n",
       "  <tbody>\n",
       "    <tr>\n",
       "      <th>0</th>\n",
       "      <td>n_rows</td>\n",
       "      <td>178.00</td>\n",
       "    </tr>\n",
       "    <tr>\n",
       "      <th>1</th>\n",
       "      <td>n_cols</td>\n",
       "      <td>5.00</td>\n",
       "    </tr>\n",
       "    <tr>\n",
       "      <th>2</th>\n",
       "      <td>total_memory</td>\n",
       "      <td>7248.00</td>\n",
       "    </tr>\n",
       "    <tr>\n",
       "      <th>3</th>\n",
       "      <td>total_percent_missing</td>\n",
       "      <td>7.64</td>\n",
       "    </tr>\n",
       "  </tbody>\n",
       "</table>\n",
       "</div>"
      ],
      "text/plain": [
       "                    stat    value\n",
       "0                 n_rows   178.00\n",
       "1                 n_cols     5.00\n",
       "2           total_memory  7248.00\n",
       "3  total_percent_missing     7.64"
      ]
     },
     "metadata": {},
     "output_type": "display_data"
    },
    {
     "data": {
      "text/html": [
       "<div>\n",
       "<style scoped>\n",
       "    .dataframe tbody tr th:only-of-type {\n",
       "        vertical-align: middle;\n",
       "    }\n",
       "\n",
       "    .dataframe tbody tr th {\n",
       "        vertical-align: top;\n",
       "    }\n",
       "\n",
       "    .dataframe thead th {\n",
       "        text-align: right;\n",
       "    }\n",
       "</style>\n",
       "<table border=\"1\" class=\"dataframe\">\n",
       "  <thead>\n",
       "    <tr style=\"text-align: right;\">\n",
       "      <th></th>\n",
       "      <th>feature</th>\n",
       "      <th>percent_missing</th>\n",
       "    </tr>\n",
       "  </thead>\n",
       "  <tbody>\n",
       "    <tr>\n",
       "      <th>2</th>\n",
       "      <td>proline</td>\n",
       "      <td>8.988764</td>\n",
       "    </tr>\n",
       "    <tr>\n",
       "      <th>0</th>\n",
       "      <td>class</td>\n",
       "      <td>8.426966</td>\n",
       "    </tr>\n",
       "    <tr>\n",
       "      <th>1</th>\n",
       "      <td>alcohol</td>\n",
       "      <td>7.303371</td>\n",
       "    </tr>\n",
       "    <tr>\n",
       "      <th>3</th>\n",
       "      <td>flavanoids</td>\n",
       "      <td>6.741573</td>\n",
       "    </tr>\n",
       "    <tr>\n",
       "      <th>4</th>\n",
       "      <td>hue</td>\n",
       "      <td>6.741573</td>\n",
       "    </tr>\n",
       "  </tbody>\n",
       "</table>\n",
       "</div>"
      ],
      "text/plain": [
       "      feature  percent_missing\n",
       "2     proline         8.988764\n",
       "0       class         8.426966\n",
       "1     alcohol         7.303371\n",
       "3  flavanoids         6.741573\n",
       "4         hue         6.741573"
      ]
     },
     "metadata": {},
     "output_type": "display_data"
    },
    {
     "data": {
      "text/html": [
       "<div>\n",
       "<style scoped>\n",
       "    .dataframe tbody tr th:only-of-type {\n",
       "        vertical-align: middle;\n",
       "    }\n",
       "\n",
       "    .dataframe tbody tr th {\n",
       "        vertical-align: top;\n",
       "    }\n",
       "\n",
       "    .dataframe thead th {\n",
       "        text-align: right;\n",
       "    }\n",
       "</style>\n",
       "<table border=\"1\" class=\"dataframe\">\n",
       "  <thead>\n",
       "    <tr style=\"text-align: right;\">\n",
       "      <th></th>\n",
       "      <th>feature</th>\n",
       "      <th>mean</th>\n",
       "      <th>min</th>\n",
       "      <th>max</th>\n",
       "      <th>std</th>\n",
       "    </tr>\n",
       "  </thead>\n",
       "  <tbody>\n",
       "    <tr>\n",
       "      <th>0</th>\n",
       "      <td>alcohol</td>\n",
       "      <td>13.022667</td>\n",
       "      <td>11.03</td>\n",
       "      <td>14.75</td>\n",
       "      <td>0.786902</td>\n",
       "    </tr>\n",
       "    <tr>\n",
       "      <th>1</th>\n",
       "      <td>proline</td>\n",
       "      <td>741.641975</td>\n",
       "      <td>278.00</td>\n",
       "      <td>1680.00</td>\n",
       "      <td>316.177924</td>\n",
       "    </tr>\n",
       "    <tr>\n",
       "      <th>2</th>\n",
       "      <td>flavanoids</td>\n",
       "      <td>2.027530</td>\n",
       "      <td>0.34</td>\n",
       "      <td>5.08</td>\n",
       "      <td>1.007873</td>\n",
       "    </tr>\n",
       "    <tr>\n",
       "      <th>3</th>\n",
       "      <td>hue</td>\n",
       "      <td>0.957867</td>\n",
       "      <td>0.48</td>\n",
       "      <td>1.71</td>\n",
       "      <td>0.227553</td>\n",
       "    </tr>\n",
       "  </tbody>\n",
       "</table>\n",
       "</div>"
      ],
      "text/plain": [
       "      feature        mean     min      max         std\n",
       "0     alcohol   13.022667   11.03    14.75    0.786902\n",
       "1     proline  741.641975  278.00  1680.00  316.177924\n",
       "2  flavanoids    2.027530    0.34     5.08    1.007873\n",
       "3         hue    0.957867    0.48     1.71    0.227553"
      ]
     },
     "metadata": {},
     "output_type": "display_data"
    },
    {
     "data": {
      "text/html": [
       "<div>\n",
       "<style scoped>\n",
       "    .dataframe tbody tr th:only-of-type {\n",
       "        vertical-align: middle;\n",
       "    }\n",
       "\n",
       "    .dataframe tbody tr th {\n",
       "        vertical-align: top;\n",
       "    }\n",
       "\n",
       "    .dataframe thead th {\n",
       "        text-align: right;\n",
       "    }\n",
       "</style>\n",
       "<table border=\"1\" class=\"dataframe\">\n",
       "  <thead>\n",
       "    <tr style=\"text-align: right;\">\n",
       "      <th></th>\n",
       "      <th>feature</th>\n",
       "      <th>mean</th>\n",
       "      <th>plus_2_SD</th>\n",
       "      <th>plus_3_SD</th>\n",
       "      <th>minus_2_SD</th>\n",
       "      <th>minus_3_SD</th>\n",
       "      <th>skew</th>\n",
       "    </tr>\n",
       "  </thead>\n",
       "  <tbody>\n",
       "    <tr>\n",
       "      <th>0</th>\n",
       "      <td>alcohol</td>\n",
       "      <td>13.022667</td>\n",
       "      <td>14.596471</td>\n",
       "      <td>15.383373</td>\n",
       "      <td>11.448863</td>\n",
       "      <td>10.661961</td>\n",
       "      <td>-0.107347</td>\n",
       "    </tr>\n",
       "    <tr>\n",
       "      <th>1</th>\n",
       "      <td>proline</td>\n",
       "      <td>741.641975</td>\n",
       "      <td>1373.997824</td>\n",
       "      <td>1690.175748</td>\n",
       "      <td>NaN</td>\n",
       "      <td>NaN</td>\n",
       "      <td>0.798651</td>\n",
       "    </tr>\n",
       "    <tr>\n",
       "      <th>2</th>\n",
       "      <td>flavanoids</td>\n",
       "      <td>2.027530</td>\n",
       "      <td>4.043276</td>\n",
       "      <td>5.051149</td>\n",
       "      <td>0.011784</td>\n",
       "      <td>-0.996089</td>\n",
       "      <td>0.023135</td>\n",
       "    </tr>\n",
       "    <tr>\n",
       "      <th>3</th>\n",
       "      <td>hue</td>\n",
       "      <td>0.957867</td>\n",
       "      <td>1.412973</td>\n",
       "      <td>1.640526</td>\n",
       "      <td>0.502761</td>\n",
       "      <td>0.275208</td>\n",
       "      <td>0.051118</td>\n",
       "    </tr>\n",
       "  </tbody>\n",
       "</table>\n",
       "</div>"
      ],
      "text/plain": [
       "      feature        mean    plus_2_SD    plus_3_SD  minus_2_SD  minus_3_SD  \\\n",
       "0     alcohol   13.022667    14.596471    15.383373   11.448863   10.661961   \n",
       "1     proline  741.641975  1373.997824  1690.175748         NaN         NaN   \n",
       "2  flavanoids    2.027530     4.043276     5.051149    0.011784   -0.996089   \n",
       "3         hue    0.957867     1.412973     1.640526    0.502761    0.275208   \n",
       "\n",
       "       skew  \n",
       "0 -0.107347  \n",
       "1  0.798651  \n",
       "2  0.023135  \n",
       "3  0.051118  "
      ]
     },
     "metadata": {},
     "output_type": "display_data"
    },
    {
     "data": {
      "image/png": "[encoded data removed]",
      "text/plain": [
       "<Figure size 864x864 with 1 Axes>"
      ]
     },
     "metadata": {
      "needs_background": "light"
     },
     "output_type": "display_data"
    },
    {
     "data": {
      "image/png": "[encoded data removed]",
      "text/plain": [
       "<Figure size 432x432 with 1 Axes>"
      ]
     },
     "metadata": {
      "needs_background": "light"
     },
     "output_type": "display_data"
    },
    {
     "data": {
      "image/png": "[encoded data removed]",
      "text/plain": [
       "<Figure size 432x432 with 1 Axes>"
      ]
     },
     "metadata": {
      "needs_background": "light"
     },
     "output_type": "display_data"
    },
    {
     "data": {
      "image/png": "[encoded data removed]",
      "text/plain": [
       "<Figure size 432x432 with 1 Axes>"
      ]
     },
     "metadata": {
      "needs_background": "light"
     },
     "output_type": "display_data"
    },
    {
     "data": {
      "image/png": "[encoded data removed]",
      "text/plain": [
       "<Figure size 432x432 with 1 Axes>"
      ]
     },
     "metadata": {
      "needs_background": "light"
     },
     "output_type": "display_data"
    },
    {
     "data": {
      "text/html": [
       "<div>\n",
       "<style scoped>\n",
       "    .dataframe tbody tr th:only-of-type {\n",
       "        vertical-align: middle;\n",
       "    }\n",
       "\n",
       "    .dataframe tbody tr th {\n",
       "        vertical-align: top;\n",
       "    }\n",
       "\n",
       "    .dataframe thead th {\n",
       "        text-align: right;\n",
       "    }\n",
       "</style>\n",
       "<table border=\"1\" class=\"dataframe\">\n",
       "  <thead>\n",
       "    <tr style=\"text-align: right;\">\n",
       "      <th></th>\n",
       "      <th>alcohol</th>\n",
       "      <th>proline</th>\n",
       "      <th>flavanoids</th>\n",
       "      <th>hue</th>\n",
       "    </tr>\n",
       "  </thead>\n",
       "  <tbody>\n",
       "    <tr>\n",
       "      <th>alcohol</th>\n",
       "      <td>1.000000</td>\n",
       "      <td>0.634427</td>\n",
       "      <td>0.197594</td>\n",
       "      <td>-0.072535</td>\n",
       "    </tr>\n",
       "    <tr>\n",
       "      <th>proline</th>\n",
       "      <td>0.634427</td>\n",
       "      <td>1.000000</td>\n",
       "      <td>0.513375</td>\n",
       "      <td>0.209748</td>\n",
       "    </tr>\n",
       "    <tr>\n",
       "      <th>flavanoids</th>\n",
       "      <td>0.197594</td>\n",
       "      <td>0.513375</td>\n",
       "      <td>1.000000</td>\n",
       "      <td>0.528641</td>\n",
       "    </tr>\n",
       "    <tr>\n",
       "      <th>hue</th>\n",
       "      <td>-0.072535</td>\n",
       "      <td>0.209748</td>\n",
       "      <td>0.528641</td>\n",
       "      <td>1.000000</td>\n",
       "    </tr>\n",
       "  </tbody>\n",
       "</table>\n",
       "</div>"
      ],
      "text/plain": [
       "             alcohol   proline  flavanoids       hue\n",
       "alcohol     1.000000  0.634427    0.197594 -0.072535\n",
       "proline     0.634427  1.000000    0.513375  0.209748\n",
       "flavanoids  0.197594  0.513375    1.000000  0.528641\n",
       "hue        -0.072535  0.209748    0.528641  1.000000"
      ]
     },
     "metadata": {},
     "output_type": "display_data"
    },
    {
     "data": {
      "text/html": [
       "<div>\n",
       "<style scoped>\n",
       "    .dataframe tbody tr th:only-of-type {\n",
       "        vertical-align: middle;\n",
       "    }\n",
       "\n",
       "    .dataframe tbody tr th {\n",
       "        vertical-align: top;\n",
       "    }\n",
       "\n",
       "    .dataframe thead th {\n",
       "        text-align: right;\n",
       "    }\n",
       "</style>\n",
       "<table border=\"1\" class=\"dataframe\">\n",
       "  <thead>\n",
       "    <tr style=\"text-align: right;\">\n",
       "      <th></th>\n",
       "      <th>feature_by_category</th>\n",
       "      <th>count</th>\n",
       "      <th>proportion_samples</th>\n",
       "    </tr>\n",
       "  </thead>\n",
       "  <tbody>\n",
       "    <tr>\n",
       "      <th>0</th>\n",
       "      <td>class_1</td>\n",
       "      <td>54</td>\n",
       "      <td>30.34</td>\n",
       "    </tr>\n",
       "    <tr>\n",
       "      <th>1</th>\n",
       "      <td>class_2</td>\n",
       "      <td>66</td>\n",
       "      <td>37.08</td>\n",
       "    </tr>\n",
       "    <tr>\n",
       "      <th>2</th>\n",
       "      <td>class_3</td>\n",
       "      <td>43</td>\n",
       "      <td>24.16</td>\n",
       "    </tr>\n",
       "  </tbody>\n",
       "</table>\n",
       "</div>"
      ],
      "text/plain": [
       "  feature_by_category  count  proportion_samples\n",
       "0             class_1     54               30.34\n",
       "1             class_2     66               37.08\n",
       "2             class_3     43               24.16"
      ]
     },
     "metadata": {},
     "output_type": "display_data"
    },
    {
     "data": {
      "image/png": "[encoded data removed]",
      "text/plain": [
       "<Figure size 792x648 with 2 Axes>"
      ]
     },
     "metadata": {
      "needs_background": "light"
     },
     "output_type": "display_data"
    },
    {
     "data": {
      "image/png": "[encoded data removed]",
      "text/plain": [
       "<Figure size 432x432 with 1 Axes>"
      ]
     },
     "metadata": {
      "needs_background": "light"
     },
     "output_type": "display_data"
    }
   ],
   "source": [
    "test_dict = explore.run_battery(data=wines\n",
    "                                , categorical_cols=['class']\n",
    "                                , continuous_cols=['alcohol', 'proline', 'flavanoids', 'hue']\n",
    "                                , tests=[]\n",
    "                                , gen_stats=[\"mean\", \"min\", \"max\", \"std\"]\n",
    "                                , cap_stats=[\"sd\"]\n",
    "                                , disp=True\n",
    "                                , plot=True\n",
    "                               )"
   ]
  },
  {
   "cell_type": "markdown",
   "metadata": {},
   "source": [
    "## Outcome Analyses"
   ]
  },
  {
   "cell_type": "markdown",
   "metadata": {},
   "source": [
    "Another option in the exploratory module is an outcome oriented analysis. More specifically rather then analyzing features individually you can use the outcomes module to look at the relationships between your features and a specific outcome. For the purposes of this example I will be creating a dummy class as the outcome as the regress analysis for categorical outcomes currently only supports binary logistic regression. For regression analyses it will also simply drop rows where it decets na values in the features. Note that individual functions within the outcomes module return pandas dataframes however the stats_by_outcome() functions returns a dictionary with the keys corresponding to the returned pandas dataframes."
   ]
  },
  {
   "cell_type": "code",
   "execution_count": 10,
   "metadata": {
    "scrolled": false
   },
   "outputs": [
    {
     "data": {
      "text/html": [
       "<div>\n",
       "<style scoped>\n",
       "    .dataframe tbody tr th:only-of-type {\n",
       "        vertical-align: middle;\n",
       "    }\n",
       "\n",
       "    .dataframe tbody tr th {\n",
       "        vertical-align: top;\n",
       "    }\n",
       "\n",
       "    .dataframe thead th {\n",
       "        text-align: right;\n",
       "    }\n",
       "</style>\n",
       "<table border=\"1\" class=\"dataframe\">\n",
       "  <thead>\n",
       "    <tr style=\"text-align: right;\">\n",
       "      <th></th>\n",
       "      <th>dummy</th>\n",
       "      <th>mean_alcohol</th>\n",
       "      <th>std_alcohol</th>\n",
       "      <th>mean_proline</th>\n",
       "      <th>std_proline</th>\n",
       "      <th>mean_flavanoids</th>\n",
       "      <th>std_flavanoids</th>\n",
       "      <th>mean_hue</th>\n",
       "      <th>std_hue</th>\n",
       "    </tr>\n",
       "  </thead>\n",
       "  <tbody>\n",
       "    <tr>\n",
       "      <th>0</th>\n",
       "      <td>0</td>\n",
       "      <td>0.456265</td>\n",
       "      <td>0.192894</td>\n",
       "      <td>0.216089</td>\n",
       "      <td>0.130666</td>\n",
       "      <td>0.267052</td>\n",
       "      <td>0.190578</td>\n",
       "      <td>0.35286</td>\n",
       "      <td>0.203652</td>\n",
       "    </tr>\n",
       "    <tr>\n",
       "      <th>1</th>\n",
       "      <td>1</td>\n",
       "      <td>0.718280</td>\n",
       "      <td>0.119882</td>\n",
       "      <td>0.602904</td>\n",
       "      <td>0.160115</td>\n",
       "      <td>0.556631</td>\n",
       "      <td>0.084472</td>\n",
       "      <td>0.47122</td>\n",
       "      <td>0.089015</td>\n",
       "    </tr>\n",
       "  </tbody>\n",
       "</table>\n",
       "</div>"
      ],
      "text/plain": [
       "   dummy  mean_alcohol  std_alcohol  mean_proline  std_proline  \\\n",
       "0      0      0.456265     0.192894      0.216089     0.130666   \n",
       "1      1      0.718280     0.119882      0.602904     0.160115   \n",
       "\n",
       "   mean_flavanoids  std_flavanoids  mean_hue   std_hue  \n",
       "0         0.267052        0.190578   0.35286  0.203652  \n",
       "1         0.556631        0.084472   0.47122  0.089015  "
      ]
     },
     "metadata": {},
     "output_type": "display_data"
    },
    {
     "name": "stdout",
     "output_type": "stream",
     "text": [
      "Warning: Maximum number of iterations has been exceeded.\n",
      "         Current function value: 0.410863\n",
      "         Iterations: 35\n",
      "         Function evaluations: 36\n",
      "         Gradient evaluations: 36\n"
     ]
    },
    {
     "data": {
      "text/html": [
       "<div>\n",
       "<style scoped>\n",
       "    .dataframe tbody tr th:only-of-type {\n",
       "        vertical-align: middle;\n",
       "    }\n",
       "\n",
       "    .dataframe tbody tr th {\n",
       "        vertical-align: top;\n",
       "    }\n",
       "\n",
       "    .dataframe thead th {\n",
       "        text-align: right;\n",
       "    }\n",
       "</style>\n",
       "<table border=\"1\" class=\"dataframe\">\n",
       "  <thead>\n",
       "    <tr style=\"text-align: right;\">\n",
       "      <th></th>\n",
       "      <th>feature</th>\n",
       "      <th>coef</th>\n",
       "      <th>std err</th>\n",
       "      <th>z</th>\n",
       "      <th>P&gt;|z|</th>\n",
       "      <th>[0.025</th>\n",
       "      <th>0.975]</th>\n",
       "    </tr>\n",
       "  </thead>\n",
       "  <tbody>\n",
       "    <tr>\n",
       "      <th>0</th>\n",
       "      <td>alcohol</td>\n",
       "      <td>-5.8180</td>\n",
       "      <td>1.291</td>\n",
       "      <td>-4.506</td>\n",
       "      <td>0.000</td>\n",
       "      <td>-8.349</td>\n",
       "      <td>-3.287</td>\n",
       "    </tr>\n",
       "    <tr>\n",
       "      <th>1</th>\n",
       "      <td>proline</td>\n",
       "      <td>10.3256</td>\n",
       "      <td>2.006</td>\n",
       "      <td>5.148</td>\n",
       "      <td>0.000</td>\n",
       "      <td>6.395</td>\n",
       "      <td>14.257</td>\n",
       "    </tr>\n",
       "    <tr>\n",
       "      <th>2</th>\n",
       "      <td>flavanoids</td>\n",
       "      <td>5.0079</td>\n",
       "      <td>1.703</td>\n",
       "      <td>2.940</td>\n",
       "      <td>0.003</td>\n",
       "      <td>1.669</td>\n",
       "      <td>8.346</td>\n",
       "    </tr>\n",
       "    <tr>\n",
       "      <th>3</th>\n",
       "      <td>hue</td>\n",
       "      <td>-7.9811</td>\n",
       "      <td>1.856</td>\n",
       "      <td>-4.299</td>\n",
       "      <td>0.000</td>\n",
       "      <td>-11.620</td>\n",
       "      <td>-4.343</td>\n",
       "    </tr>\n",
       "  </tbody>\n",
       "</table>\n",
       "</div>"
      ],
      "text/plain": [
       "      feature     coef  std err      z  P>|z|  [0.025  0.975]\n",
       "0     alcohol  -5.8180    1.291 -4.506  0.000  -8.349  -3.287\n",
       "1     proline  10.3256    2.006  5.148  0.000   6.395  14.257\n",
       "2  flavanoids   5.0079    1.703  2.940  0.003   1.669   8.346\n",
       "3         hue  -7.9811    1.856 -4.299  0.000 -11.620  -4.343"
      ]
     },
     "metadata": {},
     "output_type": "display_data"
    },
    {
     "data": {
      "image/png": "[encoded data removed]",
      "text/plain": [
       "<Figure size 576x576 with 1 Axes>"
      ]
     },
     "metadata": {
      "needs_background": "light"
     },
     "output_type": "display_data"
    }
   ],
   "source": [
    "wines['dummy'] = list(map(lambda x: 1 if x == '1' else 0, wines['class']))\n",
    "\n",
    "res_dict = outcomes.stats_by_outcome(data=wines\n",
    "                                     , outcome_type='categorical'\n",
    "                                     , outcome='dummy'\n",
    "                                     , categorical_fts=[]\n",
    "                                     , continuous_fts=['alcohol', 'proline', 'flavanoids', 'hue']\n",
    "                                     , analyses=[\"descriptives\", \"regress\"]\n",
    "                                     , descriptive_stats=['mean', 'std']\n",
    "                                     , scale='minmax'\n",
    "                                     , plot=True\n",
    "                                    )"
   ]
  },
  {
   "cell_type": "code",
   "execution_count": 11,
   "metadata": {},
   "outputs": [
    {
     "name": "stdout",
     "output_type": "stream",
     "text": [
      "Returned data: ['descriptives', 'regress']\n"
     ]
    }
   ],
   "source": [
    "print(\"Returned data: \" + str(list(res_dict.keys())))"
   ]
  },
  {
   "cell_type": "markdown",
   "metadata": {},
   "source": [
    "Now I'll do it with the outcome as a continous variable as oppoed to a categorical variable."
   ]
  },
  {
   "cell_type": "code",
   "execution_count": 12,
   "metadata": {
    "scrolled": false
   },
   "outputs": [
    {
     "data": {
      "text/html": [
       "<div>\n",
       "<style scoped>\n",
       "    .dataframe tbody tr th:only-of-type {\n",
       "        vertical-align: middle;\n",
       "    }\n",
       "\n",
       "    .dataframe tbody tr th {\n",
       "        vertical-align: top;\n",
       "    }\n",
       "\n",
       "    .dataframe thead th {\n",
       "        text-align: right;\n",
       "    }\n",
       "</style>\n",
       "<table border=\"1\" class=\"dataframe\">\n",
       "  <thead>\n",
       "    <tr style=\"text-align: right;\">\n",
       "      <th></th>\n",
       "      <th>outcome</th>\n",
       "      <th>feature</th>\n",
       "      <th>correlation</th>\n",
       "    </tr>\n",
       "  </thead>\n",
       "  <tbody>\n",
       "    <tr>\n",
       "      <th>0</th>\n",
       "      <td>alcohol</td>\n",
       "      <td>proline</td>\n",
       "      <td>0.634427</td>\n",
       "    </tr>\n",
       "    <tr>\n",
       "      <th>1</th>\n",
       "      <td>alcohol</td>\n",
       "      <td>flavanoids</td>\n",
       "      <td>0.197594</td>\n",
       "    </tr>\n",
       "    <tr>\n",
       "      <th>2</th>\n",
       "      <td>alcohol</td>\n",
       "      <td>hue</td>\n",
       "      <td>-0.072535</td>\n",
       "    </tr>\n",
       "  </tbody>\n",
       "</table>\n",
       "</div>"
      ],
      "text/plain": [
       "   outcome     feature  correlation\n",
       "0  alcohol     proline     0.634427\n",
       "1  alcohol  flavanoids     0.197594\n",
       "2  alcohol         hue    -0.072535"
      ]
     },
     "metadata": {},
     "output_type": "display_data"
    },
    {
     "data": {
      "text/html": [
       "<div>\n",
       "<style scoped>\n",
       "    .dataframe tbody tr th:only-of-type {\n",
       "        vertical-align: middle;\n",
       "    }\n",
       "\n",
       "    .dataframe tbody tr th {\n",
       "        vertical-align: top;\n",
       "    }\n",
       "\n",
       "    .dataframe thead th {\n",
       "        text-align: right;\n",
       "    }\n",
       "</style>\n",
       "<table border=\"1\" class=\"dataframe\">\n",
       "  <thead>\n",
       "    <tr style=\"text-align: right;\">\n",
       "      <th></th>\n",
       "      <th>dummy</th>\n",
       "      <th>mean_alcohol</th>\n",
       "      <th>std_alcohol</th>\n",
       "    </tr>\n",
       "  </thead>\n",
       "  <tbody>\n",
       "    <tr>\n",
       "      <th>0</th>\n",
       "      <td>0</td>\n",
       "      <td>0.456265</td>\n",
       "      <td>0.192894</td>\n",
       "    </tr>\n",
       "    <tr>\n",
       "      <th>1</th>\n",
       "      <td>1</td>\n",
       "      <td>0.718280</td>\n",
       "      <td>0.119882</td>\n",
       "    </tr>\n",
       "  </tbody>\n",
       "</table>\n",
       "</div>"
      ],
      "text/plain": [
       "   dummy  mean_alcohol  std_alcohol\n",
       "0      0      0.456265     0.192894\n",
       "1      1      0.718280     0.119882"
      ]
     },
     "metadata": {},
     "output_type": "display_data"
    },
    {
     "data": {
      "text/html": [
       "<div>\n",
       "<style scoped>\n",
       "    .dataframe tbody tr th:only-of-type {\n",
       "        vertical-align: middle;\n",
       "    }\n",
       "\n",
       "    .dataframe tbody tr th {\n",
       "        vertical-align: top;\n",
       "    }\n",
       "\n",
       "    .dataframe thead th {\n",
       "        text-align: right;\n",
       "    }\n",
       "</style>\n",
       "<table border=\"1\" class=\"dataframe\">\n",
       "  <thead>\n",
       "    <tr style=\"text-align: right;\">\n",
       "      <th></th>\n",
       "      <th>feature</th>\n",
       "      <th>coef</th>\n",
       "      <th>std err</th>\n",
       "      <th>t</th>\n",
       "      <th>P&gt;|t|</th>\n",
       "      <th>[0.025</th>\n",
       "      <th>0.975]</th>\n",
       "    </tr>\n",
       "  </thead>\n",
       "  <tbody>\n",
       "    <tr>\n",
       "      <th>0</th>\n",
       "      <td>dummy</td>\n",
       "      <td>-0.1619</td>\n",
       "      <td>0.066</td>\n",
       "      <td>-2.442</td>\n",
       "      <td>0.016</td>\n",
       "      <td>-0.293</td>\n",
       "      <td>-0.031</td>\n",
       "    </tr>\n",
       "    <tr>\n",
       "      <th>1</th>\n",
       "      <td>proline</td>\n",
       "      <td>1.0601</td>\n",
       "      <td>0.117</td>\n",
       "      <td>9.043</td>\n",
       "      <td>0.000</td>\n",
       "      <td>0.828</td>\n",
       "      <td>1.292</td>\n",
       "    </tr>\n",
       "    <tr>\n",
       "      <th>2</th>\n",
       "      <td>flavanoids</td>\n",
       "      <td>0.2763</td>\n",
       "      <td>0.141</td>\n",
       "      <td>1.961</td>\n",
       "      <td>0.052</td>\n",
       "      <td>-0.002</td>\n",
       "      <td>0.555</td>\n",
       "    </tr>\n",
       "    <tr>\n",
       "      <th>3</th>\n",
       "      <td>hue</td>\n",
       "      <td>0.1670</td>\n",
       "      <td>0.114</td>\n",
       "      <td>1.460</td>\n",
       "      <td>0.147</td>\n",
       "      <td>-0.059</td>\n",
       "      <td>0.393</td>\n",
       "    </tr>\n",
       "  </tbody>\n",
       "</table>\n",
       "</div>"
      ],
      "text/plain": [
       "      feature    coef  std err      t  P>|t|  [0.025  0.975]\n",
       "0       dummy -0.1619    0.066 -2.442  0.016  -0.293  -0.031\n",
       "1     proline  1.0601    0.117  9.043  0.000   0.828   1.292\n",
       "2  flavanoids  0.2763    0.141  1.961  0.052  -0.002   0.555\n",
       "3         hue  0.1670    0.114  1.460  0.147  -0.059   0.393"
      ]
     },
     "metadata": {},
     "output_type": "display_data"
    },
    {
     "data": {
      "image/png": "[encoded data removed]",
      "text/plain": [
       "<Figure size 576x576 with 1 Axes>"
      ]
     },
     "metadata": {
      "needs_background": "light"
     },
     "output_type": "display_data"
    }
   ],
   "source": [
    "res_dict = outcomes.stats_by_outcome(data=wines\n",
    "                                     , outcome_type='continuous'\n",
    "                                     , outcome='alcohol'\n",
    "                                     , categorical_fts=['dummy']\n",
    "                                     , continuous_fts=['proline', 'flavanoids', 'hue']\n",
    "                                     , analyses=[\"descriptives\", \"regress\"]\n",
    "                                     , descriptive_stats=['mean', 'std']\n",
    "                                     , scale='minmax'\n",
    "                                     , plot=True\n",
    "                                    )"
   ]
  },
  {
   "cell_type": "code",
   "execution_count": 13,
   "metadata": {},
   "outputs": [
    {
     "name": "stdout",
     "output_type": "stream",
     "text": [
      "Returned data: ['correlations', 'desc_df', 'regress']\n"
     ]
    }
   ],
   "source": [
    "print(\"Returned data: \" + str(list(res_dict.keys())))"
   ]
  },
  {
   "cell_type": "code",
   "execution_count": null,
   "metadata": {},
   "outputs": [],
   "source": []
  }
 ],
 "metadata": {
  "kernelspec": {
   "display_name": "Python 3",
   "language": "python",
   "name": "python3"
  },
  "language_info": {
   "codemirror_mode": {
    "name": "ipython",
    "version": 3
   },
   "file_extension": ".py",
   "mimetype": "text/x-python",
   "name": "python",
   "nbconvert_exporter": "python",
   "pygments_lexer": "ipython3",
   "version": "3.6.6"
  }
 },
 "nbformat": 4,
 "nbformat_minor": 2
}
