{
 "cells": [
  {
   "cell_type": "markdown",
   "metadata": {},
   "source": [
    "# Using the Exploratory Functions\n",
    "\n",
    "This notebook contains examples of how to use the Exploratory module to do exploratory data analysis on your data.The data used in the examples is the wines dataset provied within eagle datasets. Examples include missing data analyses, getting descriptive stats of continous and categorical features, running batteries of tests and outcome analyses."
   ]
  },
  {
   "cell_type": "code",
   "execution_count": 1,
   "metadata": {},
   "outputs": [],
   "source": [
    "from eagles.data_sets import data_loader as dl\n",
    "from eagles.Exploratory import explore, missing, distributions, categories ,outcomes\n",
    "from eagles.Exploratory.utils import plot_utils as pu\n",
    "\n",
    "import numpy as np"
   ]
  },
  {
   "cell_type": "code",
   "execution_count": 2,
   "metadata": {},
   "outputs": [
    {
     "name": "stdout",
     "output_type": "stream",
     "text": [
      "(178, 14)\n"
     ]
    }
   ],
   "source": [
    "wines = dl.load_wines()\n",
    "print(wines.shape)"
   ]
  },
  {
   "cell_type": "markdown",
   "metadata": {},
   "source": [
    "To make the data a little more realistic I'll add in some missing data and also convert the \"class\" column to str type as they are read in as ints even though they are labels. "
   ]
  },
  {
   "cell_type": "code",
   "execution_count": 3,
   "metadata": {},
   "outputs": [],
   "source": [
    "wines['class'] = wines['class'].astype(str)\n",
    "wines = wines.mask(np.random.random(wines.shape) < .1)"
   ]
  },
  {
   "cell_type": "markdown",
   "metadata": {},
   "source": [
    "## Missing Data"
   ]
  },
  {
   "cell_type": "markdown",
   "metadata": {},
   "source": [
    "If you would like a plot as well to see if there are any trends in the missing data you can simply set plot=True. When plot is false only the table is displayed and returned."
   ]
  },
  {
   "cell_type": "code",
   "execution_count": 4,
   "metadata": {},
   "outputs": [
    {
     "data": {
      "text/html": [
       "<div>\n",
       "<style scoped>\n",
       "    .dataframe tbody tr th:only-of-type {\n",
       "        vertical-align: middle;\n",
       "    }\n",
       "\n",
       "    .dataframe tbody tr th {\n",
       "        vertical-align: top;\n",
       "    }\n",
       "\n",
       "    .dataframe thead th {\n",
       "        text-align: right;\n",
       "    }\n",
       "</style>\n",
       "<table border=\"1\" class=\"dataframe\">\n",
       "  <thead>\n",
       "    <tr style=\"text-align: right;\">\n",
       "      <th></th>\n",
       "      <th>feature</th>\n",
       "      <th>percent_missing</th>\n",
       "    </tr>\n",
       "  </thead>\n",
       "  <tbody>\n",
       "    <tr>\n",
       "      <th>0</th>\n",
       "      <td>class</td>\n",
       "      <td>12.921348</td>\n",
       "    </tr>\n",
       "    <tr>\n",
       "      <th>2</th>\n",
       "      <td>malic_acid</td>\n",
       "      <td>12.921348</td>\n",
       "    </tr>\n",
       "    <tr>\n",
       "      <th>6</th>\n",
       "      <td>total_phenols</td>\n",
       "      <td>11.797753</td>\n",
       "    </tr>\n",
       "    <tr>\n",
       "      <th>3</th>\n",
       "      <td>ash</td>\n",
       "      <td>11.235955</td>\n",
       "    </tr>\n",
       "    <tr>\n",
       "      <th>4</th>\n",
       "      <td>alcalinity_of_ash</td>\n",
       "      <td>11.235955</td>\n",
       "    </tr>\n",
       "    <tr>\n",
       "      <th>10</th>\n",
       "      <td>color_intensity</td>\n",
       "      <td>10.674157</td>\n",
       "    </tr>\n",
       "    <tr>\n",
       "      <th>13</th>\n",
       "      <td>proline</td>\n",
       "      <td>9.550562</td>\n",
       "    </tr>\n",
       "    <tr>\n",
       "      <th>7</th>\n",
       "      <td>flavanoids</td>\n",
       "      <td>8.988764</td>\n",
       "    </tr>\n",
       "    <tr>\n",
       "      <th>11</th>\n",
       "      <td>hue</td>\n",
       "      <td>8.988764</td>\n",
       "    </tr>\n",
       "    <tr>\n",
       "      <th>12</th>\n",
       "      <td>OD280_OD315_of_diluted_wines</td>\n",
       "      <td>8.988764</td>\n",
       "    </tr>\n",
       "    <tr>\n",
       "      <th>5</th>\n",
       "      <td>magnesium</td>\n",
       "      <td>8.426966</td>\n",
       "    </tr>\n",
       "    <tr>\n",
       "      <th>1</th>\n",
       "      <td>alcohol</td>\n",
       "      <td>7.865169</td>\n",
       "    </tr>\n",
       "    <tr>\n",
       "      <th>9</th>\n",
       "      <td>proanthocyanins</td>\n",
       "      <td>6.741573</td>\n",
       "    </tr>\n",
       "    <tr>\n",
       "      <th>8</th>\n",
       "      <td>nonflavanoid_phenols</td>\n",
       "      <td>5.056180</td>\n",
       "    </tr>\n",
       "  </tbody>\n",
       "</table>\n",
       "</div>"
      ],
      "text/plain": [
       "                         feature  percent_missing\n",
       "0                          class        12.921348\n",
       "2                     malic_acid        12.921348\n",
       "6                  total_phenols        11.797753\n",
       "3                            ash        11.235955\n",
       "4              alcalinity_of_ash        11.235955\n",
       "10               color_intensity        10.674157\n",
       "13                       proline         9.550562\n",
       "7                     flavanoids         8.988764\n",
       "11                           hue         8.988764\n",
       "12  OD280_OD315_of_diluted_wines         8.988764\n",
       "5                      magnesium         8.426966\n",
       "1                        alcohol         7.865169\n",
       "9                proanthocyanins         6.741573\n",
       "8           nonflavanoid_phenols         5.056180"
      ]
     },
     "metadata": {},
     "output_type": "display_data"
    },
    {
     "data": {
      "image/png": "[encoded data removed]",
      "text/plain": [
       "<Figure size 864x864 with 1 Axes>"
      ]
     },
     "metadata": {
      "needs_background": "light"
     },
     "output_type": "display_data"
    }
   ],
   "source": [
    "msg_df = missing.get_proportion_missing(data=wines, cols=[], plot=True)"
   ]
  },
  {
   "cell_type": "markdown",
   "metadata": {},
   "source": [
    "## Get the base descriptive stats"
   ]
  },
  {
   "cell_type": "code",
   "execution_count": 5,
   "metadata": {},
   "outputs": [
    {
     "data": {
      "text/html": [
       "<div>\n",
       "<style scoped>\n",
       "    .dataframe tbody tr th:only-of-type {\n",
       "        vertical-align: middle;\n",
       "    }\n",
       "\n",
       "    .dataframe tbody tr th {\n",
       "        vertical-align: top;\n",
       "    }\n",
       "\n",
       "    .dataframe thead th {\n",
       "        text-align: right;\n",
       "    }\n",
       "</style>\n",
       "<table border=\"1\" class=\"dataframe\">\n",
       "  <thead>\n",
       "    <tr style=\"text-align: right;\">\n",
       "      <th></th>\n",
       "      <th>feature</th>\n",
       "      <th>mean</th>\n",
       "      <th>median</th>\n",
       "      <th>std</th>\n",
       "      <th>min</th>\n",
       "      <th>max</th>\n",
       "      <th>skew</th>\n",
       "    </tr>\n",
       "  </thead>\n",
       "  <tbody>\n",
       "    <tr>\n",
       "      <th>0</th>\n",
       "      <td>alcohol</td>\n",
       "      <td>13.005244</td>\n",
       "      <td>13.050</td>\n",
       "      <td>0.808491</td>\n",
       "      <td>11.03</td>\n",
       "      <td>14.83</td>\n",
       "      <td>-0.055956</td>\n",
       "    </tr>\n",
       "    <tr>\n",
       "      <th>1</th>\n",
       "      <td>malic_acid</td>\n",
       "      <td>2.374258</td>\n",
       "      <td>1.890</td>\n",
       "      <td>1.152921</td>\n",
       "      <td>0.74</td>\n",
       "      <td>5.80</td>\n",
       "      <td>0.974509</td>\n",
       "    </tr>\n",
       "    <tr>\n",
       "      <th>2</th>\n",
       "      <td>ash</td>\n",
       "      <td>2.353608</td>\n",
       "      <td>2.360</td>\n",
       "      <td>0.264045</td>\n",
       "      <td>1.36</td>\n",
       "      <td>3.22</td>\n",
       "      <td>-0.398797</td>\n",
       "    </tr>\n",
       "    <tr>\n",
       "      <th>3</th>\n",
       "      <td>alcalinity_of_ash</td>\n",
       "      <td>19.557595</td>\n",
       "      <td>19.500</td>\n",
       "      <td>3.422710</td>\n",
       "      <td>10.60</td>\n",
       "      <td>30.00</td>\n",
       "      <td>0.212851</td>\n",
       "    </tr>\n",
       "    <tr>\n",
       "      <th>4</th>\n",
       "      <td>magnesium</td>\n",
       "      <td>99.987730</td>\n",
       "      <td>98.000</td>\n",
       "      <td>14.343230</td>\n",
       "      <td>70.00</td>\n",
       "      <td>162.00</td>\n",
       "      <td>1.091924</td>\n",
       "    </tr>\n",
       "    <tr>\n",
       "      <th>5</th>\n",
       "      <td>total_phenols</td>\n",
       "      <td>2.291720</td>\n",
       "      <td>2.350</td>\n",
       "      <td>0.627063</td>\n",
       "      <td>0.98</td>\n",
       "      <td>3.88</td>\n",
       "      <td>0.081893</td>\n",
       "    </tr>\n",
       "    <tr>\n",
       "      <th>6</th>\n",
       "      <td>flavanoids</td>\n",
       "      <td>1.971049</td>\n",
       "      <td>2.030</td>\n",
       "      <td>0.975765</td>\n",
       "      <td>0.34</td>\n",
       "      <td>3.93</td>\n",
       "      <td>-0.006796</td>\n",
       "    </tr>\n",
       "    <tr>\n",
       "      <th>7</th>\n",
       "      <td>nonflavanoid_phenols</td>\n",
       "      <td>0.359941</td>\n",
       "      <td>0.340</td>\n",
       "      <td>0.123811</td>\n",
       "      <td>0.14</td>\n",
       "      <td>0.66</td>\n",
       "      <td>0.511799</td>\n",
       "    </tr>\n",
       "    <tr>\n",
       "      <th>8</th>\n",
       "      <td>proanthocyanins</td>\n",
       "      <td>1.592410</td>\n",
       "      <td>1.555</td>\n",
       "      <td>0.576774</td>\n",
       "      <td>0.41</td>\n",
       "      <td>3.58</td>\n",
       "      <td>0.495792</td>\n",
       "    </tr>\n",
       "    <tr>\n",
       "      <th>9</th>\n",
       "      <td>color_intensity</td>\n",
       "      <td>5.009874</td>\n",
       "      <td>4.600</td>\n",
       "      <td>2.325051</td>\n",
       "      <td>1.28</td>\n",
       "      <td>13.00</td>\n",
       "      <td>0.935105</td>\n",
       "    </tr>\n",
       "    <tr>\n",
       "      <th>10</th>\n",
       "      <td>hue</td>\n",
       "      <td>0.958432</td>\n",
       "      <td>0.960</td>\n",
       "      <td>0.227232</td>\n",
       "      <td>0.48</td>\n",
       "      <td>1.71</td>\n",
       "      <td>0.063704</td>\n",
       "    </tr>\n",
       "    <tr>\n",
       "      <th>11</th>\n",
       "      <td>OD280_OD315_of_diluted_wines</td>\n",
       "      <td>2.626358</td>\n",
       "      <td>2.780</td>\n",
       "      <td>0.708934</td>\n",
       "      <td>1.27</td>\n",
       "      <td>4.00</td>\n",
       "      <td>-0.323375</td>\n",
       "    </tr>\n",
       "    <tr>\n",
       "      <th>12</th>\n",
       "      <td>proline</td>\n",
       "      <td>758.645963</td>\n",
       "      <td>675.000</td>\n",
       "      <td>312.947028</td>\n",
       "      <td>290.00</td>\n",
       "      <td>1680.00</td>\n",
       "      <td>0.733535</td>\n",
       "    </tr>\n",
       "  </tbody>\n",
       "</table>\n",
       "</div>"
      ],
      "text/plain": [
       "                         feature        mean   median         std     min  \\\n",
       "0                        alcohol   13.005244   13.050    0.808491   11.03   \n",
       "1                     malic_acid    2.374258    1.890    1.152921    0.74   \n",
       "2                            ash    2.353608    2.360    0.264045    1.36   \n",
       "3              alcalinity_of_ash   19.557595   19.500    3.422710   10.60   \n",
       "4                      magnesium   99.987730   98.000   14.343230   70.00   \n",
       "5                  total_phenols    2.291720    2.350    0.627063    0.98   \n",
       "6                     flavanoids    1.971049    2.030    0.975765    0.34   \n",
       "7           nonflavanoid_phenols    0.359941    0.340    0.123811    0.14   \n",
       "8                proanthocyanins    1.592410    1.555    0.576774    0.41   \n",
       "9                color_intensity    5.009874    4.600    2.325051    1.28   \n",
       "10                           hue    0.958432    0.960    0.227232    0.48   \n",
       "11  OD280_OD315_of_diluted_wines    2.626358    2.780    0.708934    1.27   \n",
       "12                       proline  758.645963  675.000  312.947028  290.00   \n",
       "\n",
       "        max      skew  \n",
       "0     14.83 -0.055956  \n",
       "1      5.80  0.974509  \n",
       "2      3.22 -0.398797  \n",
       "3     30.00  0.212851  \n",
       "4    162.00  1.091924  \n",
       "5      3.88  0.081893  \n",
       "6      3.93 -0.006796  \n",
       "7      0.66  0.511799  \n",
       "8      3.58  0.495792  \n",
       "9     13.00  0.935105  \n",
       "10     1.71  0.063704  \n",
       "11     4.00 -0.323375  \n",
       "12  1680.00  0.733535  "
      ]
     },
     "metadata": {},
     "output_type": "display_data"
    }
   ],
   "source": [
    "descipt_df = explore.get_base_descriptives(data=wines)"
   ]
  },
  {
   "cell_type": "markdown",
   "metadata": {},
   "source": [
    "## Looking at Distributions and Potential Caps"
   ]
  },
  {
   "cell_type": "code",
   "execution_count": 6,
   "metadata": {
    "scrolled": false
   },
   "outputs": [
    {
     "data": {
      "text/html": [
       "<div>\n",
       "<style scoped>\n",
       "    .dataframe tbody tr th:only-of-type {\n",
       "        vertical-align: middle;\n",
       "    }\n",
       "\n",
       "    .dataframe tbody tr th {\n",
       "        vertical-align: top;\n",
       "    }\n",
       "\n",
       "    .dataframe thead th {\n",
       "        text-align: right;\n",
       "    }\n",
       "</style>\n",
       "<table border=\"1\" class=\"dataframe\">\n",
       "  <thead>\n",
       "    <tr style=\"text-align: right;\">\n",
       "      <th></th>\n",
       "      <th>Feature</th>\n",
       "      <th>plus_2_SD</th>\n",
       "      <th>plus_3_SD</th>\n",
       "      <th>minus_2_SD</th>\n",
       "      <th>minus_3_SD</th>\n",
       "      <th>skew</th>\n",
       "    </tr>\n",
       "  </thead>\n",
       "  <tbody>\n",
       "    <tr>\n",
       "      <th>0</th>\n",
       "      <td>alcohol</td>\n",
       "      <td>14.622225</td>\n",
       "      <td>15.430716</td>\n",
       "      <td>11.388263</td>\n",
       "      <td>10.579772</td>\n",
       "      <td>-0.055956</td>\n",
       "    </tr>\n",
       "    <tr>\n",
       "      <th>1</th>\n",
       "      <td>proline</td>\n",
       "      <td>1384.540020</td>\n",
       "      <td>1697.487048</td>\n",
       "      <td>NaN</td>\n",
       "      <td>NaN</td>\n",
       "      <td>0.733535</td>\n",
       "    </tr>\n",
       "    <tr>\n",
       "      <th>2</th>\n",
       "      <td>flavanoids</td>\n",
       "      <td>3.922580</td>\n",
       "      <td>4.898345</td>\n",
       "      <td>0.019519</td>\n",
       "      <td>-0.956246</td>\n",
       "      <td>-0.006796</td>\n",
       "    </tr>\n",
       "  </tbody>\n",
       "</table>\n",
       "</div>"
      ],
      "text/plain": [
       "      Feature    plus_2_SD    plus_3_SD  minus_2_SD  minus_3_SD      skew\n",
       "0     alcohol    14.622225    15.430716   11.388263   10.579772 -0.055956\n",
       "1     proline  1384.540020  1697.487048         NaN         NaN  0.733535\n",
       "2  flavanoids     3.922580     4.898345    0.019519   -0.956246 -0.006796"
      ]
     },
     "metadata": {},
     "output_type": "display_data"
    },
    {
     "data": {
      "image/png": "[encoded data removed]",
      "text/plain": [
       "<Figure size 432x432 with 1 Axes>"
      ]
     },
     "metadata": {
      "needs_background": "light"
     },
     "output_type": "display_data"
    },
    {
     "data": {
      "image/png": "[encoded data removed]",
      "text/plain": [
       "<Figure size 432x432 with 1 Axes>"
      ]
     },
     "metadata": {
      "needs_background": "light"
     },
     "output_type": "display_data"
    },
    {
     "data": {
      "image/png": "[encoded data removed]",
      "text/plain": [
       "<Figure size 432x432 with 1 Axes>"
      ]
     },
     "metadata": {
      "needs_background": "light"
     },
     "output_type": "display_data"
    }
   ],
   "source": [
    "caps_df = distributions.find_caps(data=wines, cols=['alcohol', 'proline', 'flavanoids'], stats=['sd'] ,plot=True)"
   ]
  },
  {
   "cell_type": "markdown",
   "metadata": {},
   "source": [
    "## Categories"
   ]
  },
  {
   "cell_type": "code",
   "execution_count": 7,
   "metadata": {},
   "outputs": [
    {
     "data": {
      "text/html": [
       "<div>\n",
       "<style scoped>\n",
       "    .dataframe tbody tr th:only-of-type {\n",
       "        vertical-align: middle;\n",
       "    }\n",
       "\n",
       "    .dataframe tbody tr th {\n",
       "        vertical-align: top;\n",
       "    }\n",
       "\n",
       "    .dataframe thead th {\n",
       "        text-align: right;\n",
       "    }\n",
       "</style>\n",
       "<table border=\"1\" class=\"dataframe\">\n",
       "  <thead>\n",
       "    <tr style=\"text-align: right;\">\n",
       "      <th></th>\n",
       "      <th>feature_by_category</th>\n",
       "      <th>count</th>\n",
       "      <th>proportion_samples</th>\n",
       "    </tr>\n",
       "  </thead>\n",
       "  <tbody>\n",
       "    <tr>\n",
       "      <th>0</th>\n",
       "      <td>class_1</td>\n",
       "      <td>52</td>\n",
       "      <td>29.21</td>\n",
       "    </tr>\n",
       "    <tr>\n",
       "      <th>1</th>\n",
       "      <td>class_2</td>\n",
       "      <td>61</td>\n",
       "      <td>34.27</td>\n",
       "    </tr>\n",
       "    <tr>\n",
       "      <th>2</th>\n",
       "      <td>class_3</td>\n",
       "      <td>42</td>\n",
       "      <td>23.60</td>\n",
       "    </tr>\n",
       "  </tbody>\n",
       "</table>\n",
       "</div>"
      ],
      "text/plain": [
       "  feature_by_category  count  proportion_samples\n",
       "0             class_1     52               29.21\n",
       "1             class_2     61               34.27\n",
       "2             class_3     42               23.60"
      ]
     },
     "metadata": {},
     "output_type": "display_data"
    },
    {
     "data": {
      "image/png": "[encoded data removed]",
      "text/plain": [
       "<Figure size 432x432 with 1 Axes>"
      ]
     },
     "metadata": {
      "needs_background": "light"
     },
     "output_type": "display_data"
    }
   ],
   "source": [
    "cat_df = categories.get_sample_stats(data=wines, cols=['class'] , plot=True)"
   ]
  },
  {
   "cell_type": "markdown",
   "metadata": {},
   "source": [
    "## Batteries\n",
    "\n",
    "The run_battery() function allows you to run multiple test by simply calling the explore.run_battery() function. When no tests are passed into the tests parameter all available tests are run"
   ]
  },
  {
   "cell_type": "code",
   "execution_count": 8,
   "metadata": {
    "scrolled": false
   },
   "outputs": [
    {
     "data": {
      "text/html": [
       "<div>\n",
       "<style scoped>\n",
       "    .dataframe tbody tr th:only-of-type {\n",
       "        vertical-align: middle;\n",
       "    }\n",
       "\n",
       "    .dataframe tbody tr th {\n",
       "        vertical-align: top;\n",
       "    }\n",
       "\n",
       "    .dataframe thead th {\n",
       "        text-align: right;\n",
       "    }\n",
       "</style>\n",
       "<table border=\"1\" class=\"dataframe\">\n",
       "  <thead>\n",
       "    <tr style=\"text-align: right;\">\n",
       "      <th></th>\n",
       "      <th>stat</th>\n",
       "      <th>value</th>\n",
       "    </tr>\n",
       "  </thead>\n",
       "  <tbody>\n",
       "    <tr>\n",
       "      <th>0</th>\n",
       "      <td>n_rows</td>\n",
       "      <td>178.00</td>\n",
       "    </tr>\n",
       "    <tr>\n",
       "      <th>1</th>\n",
       "      <td>n_cols</td>\n",
       "      <td>5.00</td>\n",
       "    </tr>\n",
       "    <tr>\n",
       "      <th>2</th>\n",
       "      <td>total_memory</td>\n",
       "      <td>7248.00</td>\n",
       "    </tr>\n",
       "    <tr>\n",
       "      <th>3</th>\n",
       "      <td>total_percent_missing</td>\n",
       "      <td>9.66</td>\n",
       "    </tr>\n",
       "  </tbody>\n",
       "</table>\n",
       "</div>"
      ],
      "text/plain": [
       "                    stat    value\n",
       "0                 n_rows   178.00\n",
       "1                 n_cols     5.00\n",
       "2           total_memory  7248.00\n",
       "3  total_percent_missing     9.66"
      ]
     },
     "metadata": {},
     "output_type": "display_data"
    },
    {
     "data": {
      "text/html": [
       "<div>\n",
       "<style scoped>\n",
       "    .dataframe tbody tr th:only-of-type {\n",
       "        vertical-align: middle;\n",
       "    }\n",
       "\n",
       "    .dataframe tbody tr th {\n",
       "        vertical-align: top;\n",
       "    }\n",
       "\n",
       "    .dataframe thead th {\n",
       "        text-align: right;\n",
       "    }\n",
       "</style>\n",
       "<table border=\"1\" class=\"dataframe\">\n",
       "  <thead>\n",
       "    <tr style=\"text-align: right;\">\n",
       "      <th></th>\n",
       "      <th>feature</th>\n",
       "      <th>percent_missing</th>\n",
       "    </tr>\n",
       "  </thead>\n",
       "  <tbody>\n",
       "    <tr>\n",
       "      <th>0</th>\n",
       "      <td>class</td>\n",
       "      <td>12.921348</td>\n",
       "    </tr>\n",
       "    <tr>\n",
       "      <th>2</th>\n",
       "      <td>proline</td>\n",
       "      <td>9.550562</td>\n",
       "    </tr>\n",
       "    <tr>\n",
       "      <th>3</th>\n",
       "      <td>flavanoids</td>\n",
       "      <td>8.988764</td>\n",
       "    </tr>\n",
       "    <tr>\n",
       "      <th>4</th>\n",
       "      <td>hue</td>\n",
       "      <td>8.988764</td>\n",
       "    </tr>\n",
       "    <tr>\n",
       "      <th>1</th>\n",
       "      <td>alcohol</td>\n",
       "      <td>7.865169</td>\n",
       "    </tr>\n",
       "  </tbody>\n",
       "</table>\n",
       "</div>"
      ],
      "text/plain": [
       "      feature  percent_missing\n",
       "0       class        12.921348\n",
       "2     proline         9.550562\n",
       "3  flavanoids         8.988764\n",
       "4         hue         8.988764\n",
       "1     alcohol         7.865169"
      ]
     },
     "metadata": {},
     "output_type": "display_data"
    },
    {
     "data": {
      "text/html": [
       "<div>\n",
       "<style scoped>\n",
       "    .dataframe tbody tr th:only-of-type {\n",
       "        vertical-align: middle;\n",
       "    }\n",
       "\n",
       "    .dataframe tbody tr th {\n",
       "        vertical-align: top;\n",
       "    }\n",
       "\n",
       "    .dataframe thead th {\n",
       "        text-align: right;\n",
       "    }\n",
       "</style>\n",
       "<table border=\"1\" class=\"dataframe\">\n",
       "  <thead>\n",
       "    <tr style=\"text-align: right;\">\n",
       "      <th></th>\n",
       "      <th>feature</th>\n",
       "      <th>mean</th>\n",
       "      <th>median</th>\n",
       "      <th>std</th>\n",
       "      <th>min</th>\n",
       "      <th>max</th>\n",
       "      <th>skew</th>\n",
       "    </tr>\n",
       "  </thead>\n",
       "  <tbody>\n",
       "    <tr>\n",
       "      <th>0</th>\n",
       "      <td>alcohol</td>\n",
       "      <td>13.005244</td>\n",
       "      <td>13.05</td>\n",
       "      <td>0.808491</td>\n",
       "      <td>11.03</td>\n",
       "      <td>14.83</td>\n",
       "      <td>-0.055956</td>\n",
       "    </tr>\n",
       "    <tr>\n",
       "      <th>1</th>\n",
       "      <td>proline</td>\n",
       "      <td>758.645963</td>\n",
       "      <td>675.00</td>\n",
       "      <td>312.947028</td>\n",
       "      <td>290.00</td>\n",
       "      <td>1680.00</td>\n",
       "      <td>0.733535</td>\n",
       "    </tr>\n",
       "    <tr>\n",
       "      <th>2</th>\n",
       "      <td>flavanoids</td>\n",
       "      <td>1.971049</td>\n",
       "      <td>2.03</td>\n",
       "      <td>0.975765</td>\n",
       "      <td>0.34</td>\n",
       "      <td>3.93</td>\n",
       "      <td>-0.006796</td>\n",
       "    </tr>\n",
       "    <tr>\n",
       "      <th>3</th>\n",
       "      <td>hue</td>\n",
       "      <td>0.958432</td>\n",
       "      <td>0.96</td>\n",
       "      <td>0.227232</td>\n",
       "      <td>0.48</td>\n",
       "      <td>1.71</td>\n",
       "      <td>0.063704</td>\n",
       "    </tr>\n",
       "  </tbody>\n",
       "</table>\n",
       "</div>"
      ],
      "text/plain": [
       "      feature        mean  median         std     min      max      skew\n",
       "0     alcohol   13.005244   13.05    0.808491   11.03    14.83 -0.055956\n",
       "1     proline  758.645963  675.00  312.947028  290.00  1680.00  0.733535\n",
       "2  flavanoids    1.971049    2.03    0.975765    0.34     3.93 -0.006796\n",
       "3         hue    0.958432    0.96    0.227232    0.48     1.71  0.063704"
      ]
     },
     "metadata": {},
     "output_type": "display_data"
    },
    {
     "data": {
      "text/html": [
       "<div>\n",
       "<style scoped>\n",
       "    .dataframe tbody tr th:only-of-type {\n",
       "        vertical-align: middle;\n",
       "    }\n",
       "\n",
       "    .dataframe tbody tr th {\n",
       "        vertical-align: top;\n",
       "    }\n",
       "\n",
       "    .dataframe thead th {\n",
       "        text-align: right;\n",
       "    }\n",
       "</style>\n",
       "<table border=\"1\" class=\"dataframe\">\n",
       "  <thead>\n",
       "    <tr style=\"text-align: right;\">\n",
       "      <th></th>\n",
       "      <th>Feature</th>\n",
       "      <th>plus_2_SD</th>\n",
       "      <th>plus_3_SD</th>\n",
       "      <th>minus_2_SD</th>\n",
       "      <th>minus_3_SD</th>\n",
       "      <th>skew</th>\n",
       "    </tr>\n",
       "  </thead>\n",
       "  <tbody>\n",
       "    <tr>\n",
       "      <th>0</th>\n",
       "      <td>alcohol</td>\n",
       "      <td>14.622225</td>\n",
       "      <td>15.430716</td>\n",
       "      <td>11.388263</td>\n",
       "      <td>10.579772</td>\n",
       "      <td>-0.055956</td>\n",
       "    </tr>\n",
       "    <tr>\n",
       "      <th>1</th>\n",
       "      <td>proline</td>\n",
       "      <td>1384.540020</td>\n",
       "      <td>1697.487048</td>\n",
       "      <td>NaN</td>\n",
       "      <td>NaN</td>\n",
       "      <td>0.733535</td>\n",
       "    </tr>\n",
       "    <tr>\n",
       "      <th>2</th>\n",
       "      <td>flavanoids</td>\n",
       "      <td>3.922580</td>\n",
       "      <td>4.898345</td>\n",
       "      <td>0.019519</td>\n",
       "      <td>-0.956246</td>\n",
       "      <td>-0.006796</td>\n",
       "    </tr>\n",
       "    <tr>\n",
       "      <th>3</th>\n",
       "      <td>hue</td>\n",
       "      <td>1.412896</td>\n",
       "      <td>1.640127</td>\n",
       "      <td>0.503969</td>\n",
       "      <td>0.276737</td>\n",
       "      <td>0.063704</td>\n",
       "    </tr>\n",
       "  </tbody>\n",
       "</table>\n",
       "</div>"
      ],
      "text/plain": [
       "      Feature    plus_2_SD    plus_3_SD  minus_2_SD  minus_3_SD      skew\n",
       "0     alcohol    14.622225    15.430716   11.388263   10.579772 -0.055956\n",
       "1     proline  1384.540020  1697.487048         NaN         NaN  0.733535\n",
       "2  flavanoids     3.922580     4.898345    0.019519   -0.956246 -0.006796\n",
       "3         hue     1.412896     1.640127    0.503969    0.276737  0.063704"
      ]
     },
     "metadata": {},
     "output_type": "display_data"
    },
    {
     "data": {
      "image/png": "[encoded data removed]",
      "text/plain": [
       "<Figure size 864x864 with 1 Axes>"
      ]
     },
     "metadata": {
      "needs_background": "light"
     },
     "output_type": "display_data"
    },
    {
     "data": {
      "image/png": "[encoded data removed]",
      "text/plain": [
       "<Figure size 432x432 with 1 Axes>"
      ]
     },
     "metadata": {
      "needs_background": "light"
     },
     "output_type": "display_data"
    },
    {
     "data": {
      "image/png": "[encoded data removed]",
      "text/plain": [
       "<Figure size 432x432 with 1 Axes>"
      ]
     },
     "metadata": {
      "needs_background": "light"
     },
     "output_type": "display_data"
    },
    {
     "data": {
      "image/png": "[encoded data removed]",
      "text/plain": [
       "<Figure size 432x432 with 1 Axes>"
      ]
     },
     "metadata": {
      "needs_background": "light"
     },
     "output_type": "display_data"
    },
    {
     "data": {
      "image/png": "[encoded data removed]",
      "text/plain": [
       "<Figure size 432x432 with 1 Axes>"
      ]
     },
     "metadata": {
      "needs_background": "light"
     },
     "output_type": "display_data"
    },
    {
     "data": {
      "text/html": [
       "<div>\n",
       "<style scoped>\n",
       "    .dataframe tbody tr th:only-of-type {\n",
       "        vertical-align: middle;\n",
       "    }\n",
       "\n",
       "    .dataframe tbody tr th {\n",
       "        vertical-align: top;\n",
       "    }\n",
       "\n",
       "    .dataframe thead th {\n",
       "        text-align: right;\n",
       "    }\n",
       "</style>\n",
       "<table border=\"1\" class=\"dataframe\">\n",
       "  <thead>\n",
       "    <tr style=\"text-align: right;\">\n",
       "      <th></th>\n",
       "      <th>feature_by_category</th>\n",
       "      <th>count</th>\n",
       "      <th>proportion_samples</th>\n",
       "    </tr>\n",
       "  </thead>\n",
       "  <tbody>\n",
       "    <tr>\n",
       "      <th>0</th>\n",
       "      <td>class_1</td>\n",
       "      <td>52</td>\n",
       "      <td>29.21</td>\n",
       "    </tr>\n",
       "    <tr>\n",
       "      <th>1</th>\n",
       "      <td>class_2</td>\n",
       "      <td>61</td>\n",
       "      <td>34.27</td>\n",
       "    </tr>\n",
       "    <tr>\n",
       "      <th>2</th>\n",
       "      <td>class_3</td>\n",
       "      <td>42</td>\n",
       "      <td>23.60</td>\n",
       "    </tr>\n",
       "  </tbody>\n",
       "</table>\n",
       "</div>"
      ],
      "text/plain": [
       "  feature_by_category  count  proportion_samples\n",
       "0             class_1     52               29.21\n",
       "1             class_2     61               34.27\n",
       "2             class_3     42               23.60"
      ]
     },
     "metadata": {},
     "output_type": "display_data"
    },
    {
     "data": {
      "image/png": "[encoded data removed]",
      "text/plain": [
       "<Figure size 792x648 with 2 Axes>"
      ]
     },
     "metadata": {
      "needs_background": "light"
     },
     "output_type": "display_data"
    },
    {
     "data": {
      "image/png": "[encoded data removed]",
      "text/plain": [
       "<Figure size 432x432 with 1 Axes>"
      ]
     },
     "metadata": {
      "needs_background": "light"
     },
     "output_type": "display_data"
    }
   ],
   "source": [
    "test_dict = explore.run_battery(data=wines\n",
    "                                , categorical_cols=['class']\n",
    "                                , continuous_cols=['alcohol', 'proline', 'flavanoids', 'hue'])"
   ]
  },
  {
   "cell_type": "markdown",
   "metadata": {},
   "source": [
    "## Outcome Analyses"
   ]
  },
  {
   "cell_type": "markdown",
   "metadata": {},
   "source": [
    "Another option in the exploratory module is an outcome oriented analysis. More specifically rather then analyzing features individually you can use the outcomes module to look at the relationships between your features and a specific outcome. For the purposes of this example I will be creating a dummy class as the outcome as the regress analysis for categorical outcomes currently only supports binary logistic regression. For regression analyses it will also simply drop rows where it decets na values in the features. Note that individual functions within the outcomes module return pandas dataframes however the stats_by_outcome() functions returns a dictionary with the keys corresponding to the returned pandas dataframes."
   ]
  },
  {
   "cell_type": "code",
   "execution_count": 9,
   "metadata": {
    "scrolled": false
   },
   "outputs": [
    {
     "data": {
      "text/html": [
       "<div>\n",
       "<style scoped>\n",
       "    .dataframe tbody tr th:only-of-type {\n",
       "        vertical-align: middle;\n",
       "    }\n",
       "\n",
       "    .dataframe tbody tr th {\n",
       "        vertical-align: top;\n",
       "    }\n",
       "\n",
       "    .dataframe thead th {\n",
       "        text-align: right;\n",
       "    }\n",
       "</style>\n",
       "<table border=\"1\" class=\"dataframe\">\n",
       "  <thead>\n",
       "    <tr style=\"text-align: right;\">\n",
       "      <th></th>\n",
       "      <th>dummy</th>\n",
       "      <th>mean_alcohol</th>\n",
       "      <th>std_alcohol</th>\n",
       "      <th>mean_proline</th>\n",
       "      <th>std_proline</th>\n",
       "      <th>mean_flavanoids</th>\n",
       "      <th>std_flavanoids</th>\n",
       "      <th>mean_hue</th>\n",
       "      <th>std_hue</th>\n",
       "    </tr>\n",
       "  </thead>\n",
       "  <tbody>\n",
       "    <tr>\n",
       "      <th>0</th>\n",
       "      <td>0</td>\n",
       "      <td>0.439542</td>\n",
       "      <td>0.187839</td>\n",
       "      <td>0.224900</td>\n",
       "      <td>0.139004</td>\n",
       "      <td>0.338040</td>\n",
       "      <td>0.227412</td>\n",
       "      <td>0.358544</td>\n",
       "      <td>0.203420</td>\n",
       "    </tr>\n",
       "    <tr>\n",
       "      <th>1</th>\n",
       "      <td>1</td>\n",
       "      <td>0.713761</td>\n",
       "      <td>0.127826</td>\n",
       "      <td>0.601424</td>\n",
       "      <td>0.157776</td>\n",
       "      <td>0.738873</td>\n",
       "      <td>0.117753</td>\n",
       "      <td>0.463415</td>\n",
       "      <td>0.094478</td>\n",
       "    </tr>\n",
       "  </tbody>\n",
       "</table>\n",
       "</div>"
      ],
      "text/plain": [
       "   dummy  mean_alcohol  std_alcohol  mean_proline  std_proline  \\\n",
       "0      0      0.439542     0.187839      0.224900     0.139004   \n",
       "1      1      0.713761     0.127826      0.601424     0.157776   \n",
       "\n",
       "   mean_flavanoids  std_flavanoids  mean_hue   std_hue  \n",
       "0         0.338040        0.227412  0.358544  0.203420  \n",
       "1         0.738873        0.117753  0.463415  0.094478  "
      ]
     },
     "metadata": {},
     "output_type": "display_data"
    },
    {
     "name": "stdout",
     "output_type": "stream",
     "text": [
      "Warning: Maximum number of iterations has been exceeded.\n",
      "         Current function value: 0.346651\n",
      "         Iterations: 35\n",
      "         Function evaluations: 36\n",
      "         Gradient evaluations: 36\n"
     ]
    },
    {
     "data": {
      "text/html": [
       "<div>\n",
       "<style scoped>\n",
       "    .dataframe tbody tr th:only-of-type {\n",
       "        vertical-align: middle;\n",
       "    }\n",
       "\n",
       "    .dataframe tbody tr th {\n",
       "        vertical-align: top;\n",
       "    }\n",
       "\n",
       "    .dataframe thead th {\n",
       "        text-align: right;\n",
       "    }\n",
       "</style>\n",
       "<table border=\"1\" class=\"dataframe\">\n",
       "  <thead>\n",
       "    <tr style=\"text-align: right;\">\n",
       "      <th></th>\n",
       "      <th>feature</th>\n",
       "      <th>coef</th>\n",
       "      <th>std err</th>\n",
       "      <th>z</th>\n",
       "      <th>P&gt;|z|</th>\n",
       "      <th>[0.025</th>\n",
       "      <th>0.975]</th>\n",
       "    </tr>\n",
       "  </thead>\n",
       "  <tbody>\n",
       "    <tr>\n",
       "      <th>0</th>\n",
       "      <td>alcohol</td>\n",
       "      <td>-7.0184</td>\n",
       "      <td>1.555</td>\n",
       "      <td>-4.515</td>\n",
       "      <td>0.0</td>\n",
       "      <td>-10.065</td>\n",
       "      <td>-3.971</td>\n",
       "    </tr>\n",
       "    <tr>\n",
       "      <th>1</th>\n",
       "      <td>proline</td>\n",
       "      <td>12.0944</td>\n",
       "      <td>2.410</td>\n",
       "      <td>5.018</td>\n",
       "      <td>0.0</td>\n",
       "      <td>7.370</td>\n",
       "      <td>16.819</td>\n",
       "    </tr>\n",
       "    <tr>\n",
       "      <th>2</th>\n",
       "      <td>flavanoids</td>\n",
       "      <td>5.7754</td>\n",
       "      <td>1.618</td>\n",
       "      <td>3.570</td>\n",
       "      <td>0.0</td>\n",
       "      <td>2.604</td>\n",
       "      <td>8.947</td>\n",
       "    </tr>\n",
       "    <tr>\n",
       "      <th>3</th>\n",
       "      <td>hue</td>\n",
       "      <td>-10.6919</td>\n",
       "      <td>2.493</td>\n",
       "      <td>-4.289</td>\n",
       "      <td>0.0</td>\n",
       "      <td>-15.578</td>\n",
       "      <td>-5.806</td>\n",
       "    </tr>\n",
       "  </tbody>\n",
       "</table>\n",
       "</div>"
      ],
      "text/plain": [
       "      feature     coef  std err      z  P>|z|  [0.025  0.975]\n",
       "0     alcohol  -7.0184    1.555 -4.515    0.0 -10.065  -3.971\n",
       "1     proline  12.0944    2.410  5.018    0.0   7.370  16.819\n",
       "2  flavanoids   5.7754    1.618  3.570    0.0   2.604   8.947\n",
       "3         hue -10.6919    2.493 -4.289    0.0 -15.578  -5.806"
      ]
     },
     "metadata": {},
     "output_type": "display_data"
    },
    {
     "data": {
      "image/png": "[encoded data removed]",
      "text/plain": [
       "<Figure size 576x576 with 1 Axes>"
      ]
     },
     "metadata": {
      "needs_background": "light"
     },
     "output_type": "display_data"
    }
   ],
   "source": [
    "wines['dummy'] = list(map(lambda x: 1 if x == '1' else 0, wines['class']))\n",
    "\n",
    "res_dict = outcomes.stats_by_outcome(data=wines\n",
    "                                     , outcome_type='categorical'\n",
    "                                     , outcome='dummy'\n",
    "                                     , categorical_fts=[]\n",
    "                                     , continuous_fts=['alcohol', 'proline', 'flavanoids', 'hue']\n",
    "                                     , analyses=[\"descriptives\", \"regress\"]\n",
    "                                     , descriptive_stats=['mean', 'std']\n",
    "                                     , scale='minmax'\n",
    "                                     , plot=True\n",
    "                                    )"
   ]
  },
  {
   "cell_type": "code",
   "execution_count": 10,
   "metadata": {},
   "outputs": [
    {
     "name": "stdout",
     "output_type": "stream",
     "text": [
      "Returned data: ['descriptives', 'regress']\n"
     ]
    }
   ],
   "source": [
    "print(\"Returned data: \" + str(list(res_dict.keys())))"
   ]
  },
  {
   "cell_type": "markdown",
   "metadata": {},
   "source": [
    "Now I'll do it with the outcome as a continous variable as oppoed to a categorical variable."
   ]
  },
  {
   "cell_type": "code",
   "execution_count": 11,
   "metadata": {
    "scrolled": false
   },
   "outputs": [
    {
     "data": {
      "text/html": [
       "<div>\n",
       "<style scoped>\n",
       "    .dataframe tbody tr th:only-of-type {\n",
       "        vertical-align: middle;\n",
       "    }\n",
       "\n",
       "    .dataframe tbody tr th {\n",
       "        vertical-align: top;\n",
       "    }\n",
       "\n",
       "    .dataframe thead th {\n",
       "        text-align: right;\n",
       "    }\n",
       "</style>\n",
       "<table border=\"1\" class=\"dataframe\">\n",
       "  <thead>\n",
       "    <tr style=\"text-align: right;\">\n",
       "      <th></th>\n",
       "      <th>outcome</th>\n",
       "      <th>feature</th>\n",
       "      <th>correlation</th>\n",
       "    </tr>\n",
       "  </thead>\n",
       "  <tbody>\n",
       "    <tr>\n",
       "      <th>0</th>\n",
       "      <td>alcohol</td>\n",
       "      <td>proline</td>\n",
       "      <td>0.622165</td>\n",
       "    </tr>\n",
       "    <tr>\n",
       "      <th>1</th>\n",
       "      <td>alcohol</td>\n",
       "      <td>flavanoids</td>\n",
       "      <td>0.230363</td>\n",
       "    </tr>\n",
       "    <tr>\n",
       "      <th>2</th>\n",
       "      <td>alcohol</td>\n",
       "      <td>hue</td>\n",
       "      <td>-0.086440</td>\n",
       "    </tr>\n",
       "  </tbody>\n",
       "</table>\n",
       "</div>"
      ],
      "text/plain": [
       "   outcome     feature  correlation\n",
       "0  alcohol     proline     0.622165\n",
       "1  alcohol  flavanoids     0.230363\n",
       "2  alcohol         hue    -0.086440"
      ]
     },
     "metadata": {},
     "output_type": "display_data"
    },
    {
     "data": {
      "text/html": [
       "<div>\n",
       "<style scoped>\n",
       "    .dataframe tbody tr th:only-of-type {\n",
       "        vertical-align: middle;\n",
       "    }\n",
       "\n",
       "    .dataframe tbody tr th {\n",
       "        vertical-align: top;\n",
       "    }\n",
       "\n",
       "    .dataframe thead th {\n",
       "        text-align: right;\n",
       "    }\n",
       "</style>\n",
       "<table border=\"1\" class=\"dataframe\">\n",
       "  <thead>\n",
       "    <tr style=\"text-align: right;\">\n",
       "      <th></th>\n",
       "      <th>dummy</th>\n",
       "      <th>mean_alcohol</th>\n",
       "      <th>std_alcohol</th>\n",
       "    </tr>\n",
       "  </thead>\n",
       "  <tbody>\n",
       "    <tr>\n",
       "      <th>0</th>\n",
       "      <td>0</td>\n",
       "      <td>0.439542</td>\n",
       "      <td>0.187839</td>\n",
       "    </tr>\n",
       "    <tr>\n",
       "      <th>1</th>\n",
       "      <td>1</td>\n",
       "      <td>0.713761</td>\n",
       "      <td>0.127826</td>\n",
       "    </tr>\n",
       "  </tbody>\n",
       "</table>\n",
       "</div>"
      ],
      "text/plain": [
       "   dummy  mean_alcohol  std_alcohol\n",
       "0      0      0.439542     0.187839\n",
       "1      1      0.713761     0.127826"
      ]
     },
     "metadata": {},
     "output_type": "display_data"
    },
    {
     "data": {
      "text/html": [
       "<div>\n",
       "<style scoped>\n",
       "    .dataframe tbody tr th:only-of-type {\n",
       "        vertical-align: middle;\n",
       "    }\n",
       "\n",
       "    .dataframe tbody tr th {\n",
       "        vertical-align: top;\n",
       "    }\n",
       "\n",
       "    .dataframe thead th {\n",
       "        text-align: right;\n",
       "    }\n",
       "</style>\n",
       "<table border=\"1\" class=\"dataframe\">\n",
       "  <thead>\n",
       "    <tr style=\"text-align: right;\">\n",
       "      <th></th>\n",
       "      <th>feature</th>\n",
       "      <th>coef</th>\n",
       "      <th>std err</th>\n",
       "      <th>t</th>\n",
       "      <th>P&gt;|t|</th>\n",
       "      <th>[0.025</th>\n",
       "      <th>0.975]</th>\n",
       "    </tr>\n",
       "  </thead>\n",
       "  <tbody>\n",
       "    <tr>\n",
       "      <th>0</th>\n",
       "      <td>dummy</td>\n",
       "      <td>-0.1837</td>\n",
       "      <td>0.072</td>\n",
       "      <td>-2.547</td>\n",
       "      <td>0.012</td>\n",
       "      <td>-0.327</td>\n",
       "      <td>-0.041</td>\n",
       "    </tr>\n",
       "    <tr>\n",
       "      <th>1</th>\n",
       "      <td>proline</td>\n",
       "      <td>1.0062</td>\n",
       "      <td>0.120</td>\n",
       "      <td>8.408</td>\n",
       "      <td>0.000</td>\n",
       "      <td>0.769</td>\n",
       "      <td>1.243</td>\n",
       "    </tr>\n",
       "    <tr>\n",
       "      <th>2</th>\n",
       "      <td>flavanoids</td>\n",
       "      <td>0.1670</td>\n",
       "      <td>0.109</td>\n",
       "      <td>1.529</td>\n",
       "      <td>0.129</td>\n",
       "      <td>-0.049</td>\n",
       "      <td>0.383</td>\n",
       "    </tr>\n",
       "    <tr>\n",
       "      <th>3</th>\n",
       "      <td>hue</td>\n",
       "      <td>0.2769</td>\n",
       "      <td>0.123</td>\n",
       "      <td>2.244</td>\n",
       "      <td>0.027</td>\n",
       "      <td>0.033</td>\n",
       "      <td>0.521</td>\n",
       "    </tr>\n",
       "  </tbody>\n",
       "</table>\n",
       "</div>"
      ],
      "text/plain": [
       "      feature    coef  std err      t  P>|t|  [0.025  0.975]\n",
       "0       dummy -0.1837    0.072 -2.547  0.012  -0.327  -0.041\n",
       "1     proline  1.0062    0.120  8.408  0.000   0.769   1.243\n",
       "2  flavanoids  0.1670    0.109  1.529  0.129  -0.049   0.383\n",
       "3         hue  0.2769    0.123  2.244  0.027   0.033   0.521"
      ]
     },
     "metadata": {},
     "output_type": "display_data"
    },
    {
     "data": {
      "image/png": "[encoded data removed]",
      "text/plain": [
       "<Figure size 576x576 with 1 Axes>"
      ]
     },
     "metadata": {
      "needs_background": "light"
     },
     "output_type": "display_data"
    }
   ],
   "source": [
    "res_dict = outcomes.stats_by_outcome(data=wines\n",
    "                                     , outcome_type='continuous'\n",
    "                                     , outcome='alcohol'\n",
    "                                     , categorical_fts=['dummy']\n",
    "                                     , continuous_fts=['proline', 'flavanoids', 'hue']\n",
    "                                     , analyses=[\"descriptives\", \"regress\"]\n",
    "                                     , descriptive_stats=['mean', 'std']\n",
    "                                     , scale='minmax'\n",
    "                                     , plot=True\n",
    "                                    )"
   ]
  },
  {
   "cell_type": "code",
   "execution_count": 12,
   "metadata": {},
   "outputs": [
    {
     "name": "stdout",
     "output_type": "stream",
     "text": [
      "Returned data: ['correlations', 'desc_df', 'regress']\n"
     ]
    }
   ],
   "source": [
    "print(\"Returned data: \" + str(list(res_dict.keys())))"
   ]
  },
  {
   "cell_type": "code",
   "execution_count": null,
   "metadata": {},
   "outputs": [],
   "source": []
  }
 ],
 "metadata": {
  "kernelspec": {
   "display_name": "Python 3",
   "language": "python",
   "name": "python3"
  },
  "language_info": {
   "codemirror_mode": {
    "name": "ipython",
    "version": 3
   },
   "file_extension": ".py",
   "mimetype": "text/x-python",
   "name": "python",
   "nbconvert_exporter": "python",
   "pygments_lexer": "ipython3",
   "version": "3.6.6"
  }
 },
 "nbformat": 4,
 "nbformat_minor": 2
}
